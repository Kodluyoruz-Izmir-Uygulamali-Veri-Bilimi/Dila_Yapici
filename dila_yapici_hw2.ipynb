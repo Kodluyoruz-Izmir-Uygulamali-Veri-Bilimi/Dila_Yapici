{
 "cells": [
  {
   "cell_type": "markdown",
   "metadata": {},
   "source": [
    "titanic datasını okuyunuz(<b>train.csv</b>). Ödevin geri kalanında dataframe gösterimlerini <b>display()</b> fonksiyonunu kullanarak yapınız.<br> Örn: display(titanic_df)"
   ]
  },
  {
   "cell_type": "code",
   "execution_count": 2,
   "metadata": {},
   "outputs": [],
   "source": [
    "import pandas as pd\n",
    "import numpy as np"
   ]
  },
  {
   "cell_type": "code",
   "execution_count": 142,
   "metadata": {},
   "outputs": [
    {
     "data": {
      "text/html": [
       "<div>\n",
       "<style scoped>\n",
       "    .dataframe tbody tr th:only-of-type {\n",
       "        vertical-align: middle;\n",
       "    }\n",
       "\n",
       "    .dataframe tbody tr th {\n",
       "        vertical-align: top;\n",
       "    }\n",
       "\n",
       "    .dataframe thead th {\n",
       "        text-align: right;\n",
       "    }\n",
       "</style>\n",
       "<table border=\"1\" class=\"dataframe\">\n",
       "  <thead>\n",
       "    <tr style=\"text-align: right;\">\n",
       "      <th></th>\n",
       "      <th>PassengerId</th>\n",
       "      <th>Survived</th>\n",
       "      <th>Pclass</th>\n",
       "      <th>Name</th>\n",
       "      <th>Sex</th>\n",
       "      <th>Age</th>\n",
       "      <th>SibSp</th>\n",
       "      <th>Parch</th>\n",
       "      <th>Ticket</th>\n",
       "      <th>Fare</th>\n",
       "      <th>Cabin</th>\n",
       "      <th>Embarked</th>\n",
       "    </tr>\n",
       "  </thead>\n",
       "  <tbody>\n",
       "    <tr>\n",
       "      <th>0</th>\n",
       "      <td>1</td>\n",
       "      <td>0</td>\n",
       "      <td>3</td>\n",
       "      <td>Braund, Mr. Owen Harris</td>\n",
       "      <td>male</td>\n",
       "      <td>22.0</td>\n",
       "      <td>1</td>\n",
       "      <td>0</td>\n",
       "      <td>A/5 21171</td>\n",
       "      <td>7.2500</td>\n",
       "      <td>NaN</td>\n",
       "      <td>S</td>\n",
       "    </tr>\n",
       "    <tr>\n",
       "      <th>1</th>\n",
       "      <td>2</td>\n",
       "      <td>1</td>\n",
       "      <td>1</td>\n",
       "      <td>Cumings, Mrs. John Bradley (Florence Briggs Th...</td>\n",
       "      <td>female</td>\n",
       "      <td>38.0</td>\n",
       "      <td>1</td>\n",
       "      <td>0</td>\n",
       "      <td>PC 17599</td>\n",
       "      <td>71.2833</td>\n",
       "      <td>C85</td>\n",
       "      <td>C</td>\n",
       "    </tr>\n",
       "    <tr>\n",
       "      <th>2</th>\n",
       "      <td>3</td>\n",
       "      <td>1</td>\n",
       "      <td>3</td>\n",
       "      <td>Heikkinen, Miss. Laina</td>\n",
       "      <td>female</td>\n",
       "      <td>26.0</td>\n",
       "      <td>0</td>\n",
       "      <td>0</td>\n",
       "      <td>STON/O2. 3101282</td>\n",
       "      <td>7.9250</td>\n",
       "      <td>NaN</td>\n",
       "      <td>S</td>\n",
       "    </tr>\n",
       "    <tr>\n",
       "      <th>3</th>\n",
       "      <td>4</td>\n",
       "      <td>1</td>\n",
       "      <td>1</td>\n",
       "      <td>Futrelle, Mrs. Jacques Heath (Lily May Peel)</td>\n",
       "      <td>female</td>\n",
       "      <td>35.0</td>\n",
       "      <td>1</td>\n",
       "      <td>0</td>\n",
       "      <td>113803</td>\n",
       "      <td>53.1000</td>\n",
       "      <td>C123</td>\n",
       "      <td>S</td>\n",
       "    </tr>\n",
       "    <tr>\n",
       "      <th>4</th>\n",
       "      <td>5</td>\n",
       "      <td>0</td>\n",
       "      <td>3</td>\n",
       "      <td>Allen, Mr. William Henry</td>\n",
       "      <td>male</td>\n",
       "      <td>35.0</td>\n",
       "      <td>0</td>\n",
       "      <td>0</td>\n",
       "      <td>373450</td>\n",
       "      <td>8.0500</td>\n",
       "      <td>NaN</td>\n",
       "      <td>S</td>\n",
       "    </tr>\n",
       "    <tr>\n",
       "      <th>...</th>\n",
       "      <td>...</td>\n",
       "      <td>...</td>\n",
       "      <td>...</td>\n",
       "      <td>...</td>\n",
       "      <td>...</td>\n",
       "      <td>...</td>\n",
       "      <td>...</td>\n",
       "      <td>...</td>\n",
       "      <td>...</td>\n",
       "      <td>...</td>\n",
       "      <td>...</td>\n",
       "      <td>...</td>\n",
       "    </tr>\n",
       "    <tr>\n",
       "      <th>886</th>\n",
       "      <td>887</td>\n",
       "      <td>0</td>\n",
       "      <td>2</td>\n",
       "      <td>Montvila, Rev. Juozas</td>\n",
       "      <td>male</td>\n",
       "      <td>27.0</td>\n",
       "      <td>0</td>\n",
       "      <td>0</td>\n",
       "      <td>211536</td>\n",
       "      <td>13.0000</td>\n",
       "      <td>NaN</td>\n",
       "      <td>S</td>\n",
       "    </tr>\n",
       "    <tr>\n",
       "      <th>887</th>\n",
       "      <td>888</td>\n",
       "      <td>1</td>\n",
       "      <td>1</td>\n",
       "      <td>Graham, Miss. Margaret Edith</td>\n",
       "      <td>female</td>\n",
       "      <td>19.0</td>\n",
       "      <td>0</td>\n",
       "      <td>0</td>\n",
       "      <td>112053</td>\n",
       "      <td>30.0000</td>\n",
       "      <td>B42</td>\n",
       "      <td>S</td>\n",
       "    </tr>\n",
       "    <tr>\n",
       "      <th>888</th>\n",
       "      <td>889</td>\n",
       "      <td>0</td>\n",
       "      <td>3</td>\n",
       "      <td>Johnston, Miss. Catherine Helen \"Carrie\"</td>\n",
       "      <td>female</td>\n",
       "      <td>NaN</td>\n",
       "      <td>1</td>\n",
       "      <td>2</td>\n",
       "      <td>W./C. 6607</td>\n",
       "      <td>23.4500</td>\n",
       "      <td>NaN</td>\n",
       "      <td>S</td>\n",
       "    </tr>\n",
       "    <tr>\n",
       "      <th>889</th>\n",
       "      <td>890</td>\n",
       "      <td>1</td>\n",
       "      <td>1</td>\n",
       "      <td>Behr, Mr. Karl Howell</td>\n",
       "      <td>male</td>\n",
       "      <td>26.0</td>\n",
       "      <td>0</td>\n",
       "      <td>0</td>\n",
       "      <td>111369</td>\n",
       "      <td>30.0000</td>\n",
       "      <td>C148</td>\n",
       "      <td>C</td>\n",
       "    </tr>\n",
       "    <tr>\n",
       "      <th>890</th>\n",
       "      <td>891</td>\n",
       "      <td>0</td>\n",
       "      <td>3</td>\n",
       "      <td>Dooley, Mr. Patrick</td>\n",
       "      <td>male</td>\n",
       "      <td>32.0</td>\n",
       "      <td>0</td>\n",
       "      <td>0</td>\n",
       "      <td>370376</td>\n",
       "      <td>7.7500</td>\n",
       "      <td>NaN</td>\n",
       "      <td>Q</td>\n",
       "    </tr>\n",
       "  </tbody>\n",
       "</table>\n",
       "<p>891 rows × 12 columns</p>\n",
       "</div>"
      ],
      "text/plain": [
       "     PassengerId  Survived  Pclass  \\\n",
       "0              1         0       3   \n",
       "1              2         1       1   \n",
       "2              3         1       3   \n",
       "3              4         1       1   \n",
       "4              5         0       3   \n",
       "..           ...       ...     ...   \n",
       "886          887         0       2   \n",
       "887          888         1       1   \n",
       "888          889         0       3   \n",
       "889          890         1       1   \n",
       "890          891         0       3   \n",
       "\n",
       "                                                  Name     Sex   Age  SibSp  \\\n",
       "0                              Braund, Mr. Owen Harris    male  22.0      1   \n",
       "1    Cumings, Mrs. John Bradley (Florence Briggs Th...  female  38.0      1   \n",
       "2                               Heikkinen, Miss. Laina  female  26.0      0   \n",
       "3         Futrelle, Mrs. Jacques Heath (Lily May Peel)  female  35.0      1   \n",
       "4                             Allen, Mr. William Henry    male  35.0      0   \n",
       "..                                                 ...     ...   ...    ...   \n",
       "886                              Montvila, Rev. Juozas    male  27.0      0   \n",
       "887                       Graham, Miss. Margaret Edith  female  19.0      0   \n",
       "888           Johnston, Miss. Catherine Helen \"Carrie\"  female   NaN      1   \n",
       "889                              Behr, Mr. Karl Howell    male  26.0      0   \n",
       "890                                Dooley, Mr. Patrick    male  32.0      0   \n",
       "\n",
       "     Parch            Ticket     Fare Cabin Embarked  \n",
       "0        0         A/5 21171   7.2500   NaN        S  \n",
       "1        0          PC 17599  71.2833   C85        C  \n",
       "2        0  STON/O2. 3101282   7.9250   NaN        S  \n",
       "3        0            113803  53.1000  C123        S  \n",
       "4        0            373450   8.0500   NaN        S  \n",
       "..     ...               ...      ...   ...      ...  \n",
       "886      0            211536  13.0000   NaN        S  \n",
       "887      0            112053  30.0000   B42        S  \n",
       "888      2        W./C. 6607  23.4500   NaN        S  \n",
       "889      0            111369  30.0000  C148        C  \n",
       "890      0            370376   7.7500   NaN        Q  \n",
       "\n",
       "[891 rows x 12 columns]"
      ]
     },
     "metadata": {},
     "output_type": "display_data"
    }
   ],
   "source": [
    "titanic=pd.read_csv(\"train.csv\")\n",
    "display(titanic)"
   ]
  },
  {
   "cell_type": "markdown",
   "metadata": {},
   "source": [
    "# Soru 1:"
   ]
  },
  {
   "cell_type": "markdown",
   "metadata": {},
   "source": [
    "Kazada ölenlerin yaş ortalamasını bulunuz"
   ]
  },
  {
   "cell_type": "code",
   "execution_count": 14,
   "metadata": {},
   "outputs": [
    {
     "name": "stdout",
     "output_type": "stream",
     "text": [
      "Kazada ölenlerin yaşalarının ortalama değeri = 30.62617924528302\n"
     ]
    }
   ],
   "source": [
    "dead=titanic.Survived==0 #Kazada ölenler bulunuyor (True olan ifadeler ölümü göstermektedir)\n",
    "dead_age_mean=titanic[dead==True].Age.mean()  #Kazada ölenlerin yaş ortalaması bulunuyor\n",
    "print(f\"Kazada ölenlerin yaşalarının ortalama değeri = {dead_age_mean}\")"
   ]
  },
  {
   "cell_type": "markdown",
   "metadata": {},
   "source": [
    "Kazada ölenlerin bilet fiyatlarının ortalamasını ve medyanını bulunuz"
   ]
  },
  {
   "cell_type": "code",
   "execution_count": 17,
   "metadata": {
    "collapsed": true
   },
   "outputs": [
    {
     "name": "stdout",
     "output_type": "stream",
     "text": [
      "Kazada ölenlerin bilet fiyatları ortalama değeri = 22.117886885245877\n",
      "Kazada ölenlerin bilet fiyatları medyan değeri = 10.5\n"
     ]
    }
   ],
   "source": [
    "dead_fare_mean=titanic[dead==True].Fare.mean()  #Kazada ölenlerin bilet fiyatlarının ortalaması bulunuyor\n",
    "dead_fare_median=titanic[dead==True].Fare.median() #Kazada ölenlerin bilet fiyatlarının medyanı bulunuyor\n",
    "print(f\"Kazada ölenlerin bilet fiyatları ortalama değeri = {dead_fare_mean}\")\n",
    "print(f\"Kazada ölenlerin bilet fiyatları medyan değeri = {dead_fare_median}\")"
   ]
  },
  {
   "cell_type": "markdown",
   "metadata": {},
   "source": [
    "Kazada ölen erkeklerin yaş ortalamasını bulunuz\n"
   ]
  },
  {
   "cell_type": "code",
   "execution_count": 136,
   "metadata": {
    "collapsed": true
   },
   "outputs": [
    {
     "data": {
      "text/plain": [
       "0       True\n",
       "1      False\n",
       "2      False\n",
       "3      False\n",
       "4       True\n",
       "       ...  \n",
       "886     True\n",
       "887    False\n",
       "888    False\n",
       "889     True\n",
       "890     True\n",
       "Name: Sex, Length: 891, dtype: bool"
      ]
     },
     "metadata": {},
     "output_type": "display_data"
    }
   ],
   "source": [
    "display(men)"
   ]
  },
  {
   "cell_type": "code",
   "execution_count": 18,
   "metadata": {},
   "outputs": [
    {
     "name": "stdout",
     "output_type": "stream",
     "text": [
      "Kazada ölen erkeklerin yaşlarının ortalama değeri = 31.618055555555557\n"
     ]
    }
   ],
   "source": [
    "men=titanic.Sex=='male' # True ==> erkek , False ==> kadın\n",
    "dead_men_mean=titanic[(men==True) & (dead==True)].Age.mean()\n",
    "print(f\"Kazada ölen erkeklerin yaşlarının ortalama değeri = {dead_men_mean}\")"
   ]
  },
  {
   "cell_type": "markdown",
   "metadata": {},
   "source": [
    "Kazada ölen Kadınların yaş ortalamasını bulunuz"
   ]
  },
  {
   "cell_type": "code",
   "execution_count": 19,
   "metadata": {},
   "outputs": [
    {
     "name": "stdout",
     "output_type": "stream",
     "text": [
      "Kazada ölen kadınların yaşlarının ortalama değeri = 25.046875\n"
     ]
    }
   ],
   "source": [
    "dead_women_mean=titanic[(men==False) & (dead==True)].Age.mean()\n",
    "print(f\"Kazada ölen kadınların yaşlarının ortalama değeri = {dead_women_mean}\")"
   ]
  },
  {
   "cell_type": "markdown",
   "metadata": {},
   "source": [
    "# Soru 2:"
   ]
  },
  {
   "cell_type": "markdown",
   "metadata": {},
   "source": [
    "Kazadan kurtulanların yaş ortalamasını bulunuz"
   ]
  },
  {
   "cell_type": "code",
   "execution_count": 20,
   "metadata": {},
   "outputs": [
    {
     "name": "stdout",
     "output_type": "stream",
     "text": [
      "Kazada kurtulan yolcuların yaşlarının ortalama değeri = 28.343689655172415\n"
     ]
    }
   ],
   "source": [
    "live_age_mean=titanic[dead==False].Age.mean()\n",
    "print(f\"Kazada kurtulan yolcuların yaşlarının ortalama değeri = {live_age_mean}\")"
   ]
  },
  {
   "cell_type": "markdown",
   "metadata": {},
   "source": [
    "Kazadan kurtulanların bilet fiyatlarının ortalamasını bulunuz\n"
   ]
  },
  {
   "cell_type": "code",
   "execution_count": 21,
   "metadata": {},
   "outputs": [
    {
     "name": "stdout",
     "output_type": "stream",
     "text": [
      "Kazada kurtulan yolcuların bilet fiyatlarının ortalama değeri = 48.39540760233917\n"
     ]
    }
   ],
   "source": [
    "live_fare_mean=titanic[dead==False].Fare.mean()\n",
    "print(f\"Kazada kurtulan yolcuların bilet fiyatlarının ortalama değeri = {live_fare_mean}\")"
   ]
  },
  {
   "cell_type": "markdown",
   "metadata": {},
   "source": [
    "Kazadan kurtulan toplam kişi sayısını bulunuz"
   ]
  },
  {
   "cell_type": "code",
   "execution_count": 22,
   "metadata": {},
   "outputs": [
    {
     "name": "stdout",
     "output_type": "stream",
     "text": [
      "Kazada kurtulan toplam kişi sayısı = 342\n"
     ]
    }
   ],
   "source": [
    "live=titanic[dead==False]\n",
    "print(f\"Kazada kurtulan toplam kişi sayısı = {len(live)}\")\n"
   ]
  },
  {
   "cell_type": "markdown",
   "metadata": {},
   "source": [
    "Kazadan kurtulan erkeklerin yaş ortalamasını bulunuz"
   ]
  },
  {
   "cell_type": "code",
   "execution_count": 135,
   "metadata": {},
   "outputs": [
    {
     "name": "stdout",
     "output_type": "stream",
     "text": [
      "Kazada kurtulan erkeklerin yaş ortalaması = 27.276021505376345\n"
     ]
    }
   ],
   "source": [
    "#dead değişkeninde False==>  yaşayanlara karşılık gelmektedir\n",
    "live_men_age_mean=titanic[(dead==False)&(men==True)].Age.mean() \n",
    "print(f\"Kazada kurtulan erkeklerin yaş ortalaması = {live_men_age_mean}\")"
   ]
  },
  {
   "cell_type": "markdown",
   "metadata": {},
   "source": [
    "Kazadan kurtulan kadınların yaş ortalamasını bulunuz"
   ]
  },
  {
   "cell_type": "code",
   "execution_count": 25,
   "metadata": {},
   "outputs": [
    {
     "name": "stdout",
     "output_type": "stream",
     "text": [
      "Kazada kurtulan erkeklerin yaş ortalaması = 28.84771573604061\n"
     ]
    }
   ],
   "source": [
    "live_women_age_mean=titanic[(dead==False)&(men==False)].Age.mean() \n",
    "print(f\"Kazada kurtulan erkeklerin yaş ortalaması = {live_women_age_mean}\")"
   ]
  },
  {
   "cell_type": "markdown",
   "metadata": {},
   "source": [
    "# Soru 3: "
   ]
  },
  {
   "cell_type": "markdown",
   "metadata": {},
   "source": [
    "10 yaşından küçüklerin bilet fiyatlarının medyan değerini bulunuz"
   ]
  },
  {
   "cell_type": "code",
   "execution_count": 27,
   "metadata": {},
   "outputs": [
    {
     "name": "stdout",
     "output_type": "stream",
     "text": [
      "10 yaşından küçüklerin bilet fiyatlarının medyanı = 27.0\n"
     ]
    }
   ],
   "source": [
    "under_10=titanic[titanic.Age<10]\n",
    "under_10_fare_median=under_10.Fare.median()\n",
    "print(f\"10 yaşından küçüklerin bilet fiyatlarının medyanı = {under_10_fare_median}\")"
   ]
  },
  {
   "cell_type": "markdown",
   "metadata": {},
   "source": [
    "10 yaşından büyüklerin bilet fiyatlarının medyan değerini bulunuz"
   ]
  },
  {
   "cell_type": "code",
   "execution_count": 29,
   "metadata": {},
   "outputs": [
    {
     "name": "stdout",
     "output_type": "stream",
     "text": [
      "10 yaşından büyüklerin bilet fiyatlarının medyanı = 13.92915\n"
     ]
    }
   ],
   "source": [
    "older_10=titanic[titanic.Age>10]\n",
    "older_10_fare_median=older_10.Fare.median()\n",
    "print(f\"10 yaşından büyüklerin bilet fiyatlarının medyanı = {older_10_fare_median}\")"
   ]
  },
  {
   "cell_type": "markdown",
   "metadata": {},
   "source": [
    "# Soru 5:"
   ]
  },
  {
   "cell_type": "markdown",
   "metadata": {},
   "source": [
    "1.sınıf, 2.sınıf ve 3.sınıf yolcuların ölüm oranlarını karşılaştırınız. Bir veya bir kaç cümle ile sonucu <b>yorumlayınız.</b>\n"
   ]
  },
  {
   "cell_type": "code",
   "execution_count": 41,
   "metadata": {},
   "outputs": [
    {
     "name": "stdout",
     "output_type": "stream",
     "text": [
      "Birinci sınıf ölüm oranı= 0.37037037037037035\n",
      "İkinci sınıf ölüm oranı= 0.5271739130434783\n",
      "Üçüncü sınıf ölüm oranı= 0.7576374745417516\n",
      "Sınıf derecesi sayısal olarak yükseldikçe ölüm oranı yükselmektedir.\n"
     ]
    }
   ],
   "source": [
    "first_class=titanic[(titanic.Pclass==1)].shape[0]\n",
    "first_class_dead=titanic[(titanic.Pclass==1) & (titanic.Survived==0)].shape[0]\n",
    "first_class_rate=first_class_dead/first_class# first class ölüm oranı\n",
    "\n",
    "second_class=titanic[(titanic.Pclass==2)].shape[0]\n",
    "second_class_dead=titanic[(titanic.Pclass==2) & (titanic.Survived==0)].shape[0]\n",
    "second_class_rate=second_class_dead/second_class# second class ölüm oranı\n",
    "\n",
    "third_class=titanic[(titanic.Pclass==3)].shape[0]\n",
    "third_class_dead=titanic[(titanic.Pclass==3) & (titanic.Survived==0)].shape[0]\n",
    "third_class_rate=third_class_dead/third_class# third class ölüm oranı\n",
    "print(f\"Birinci sınıf ölüm oranı= {first_class_rate}\")\n",
    "print(f\"İkinci sınıf ölüm oranı= {second_class_rate}\")\n",
    "print(f\"Üçüncü sınıf ölüm oranı= {third_class_rate}\")\n",
    "\n",
    "print(\"Sınıf derecesi sayısal olarak yükseldikçe ölüm oranı yükselmektedir.\")"
   ]
  },
  {
   "cell_type": "markdown",
   "metadata": {},
   "source": [
    "1.sınıf, 2.sınıf ve 3.sınıf bilet fiyatlarını karşılaştırınız"
   ]
  },
  {
   "cell_type": "code",
   "execution_count": 34,
   "metadata": {
    "collapsed": true
   },
   "outputs": [
    {
     "data": {
      "text/plain": [
       "'Birinci Sınıf için, medyan: 60.287499999999994, İkinci Sınıf için medyan: 14.25, Üçüncü Sınıf için medyan:8.05'"
      ]
     },
     "execution_count": 34,
     "metadata": {},
     "output_type": "execute_result"
    }
   ],
   "source": [
    "f\"Birinci Sınıf için medyan: {titanic[(titanic.Pclass==1)].Fare.median()}, İkinci Sınıf için medyan: {titanic[(titanic.Pclass==2)].Fare.median()}, Üçüncü Sınıf için medyan:{titanic[(titanic.Pclass==3)].Fare.median()}\"\n"
   ]
  },
  {
   "cell_type": "code",
   "execution_count": 39,
   "metadata": {
    "collapsed": true
   },
   "outputs": [
    {
     "data": {
      "text/plain": [
       "'Birinci Sınıf için ortalama: 84.15468749999992, İkinci Sınıf için ortalama: 20.66218315217391, Üçüncü Sınıf için ortalama:13.675550101832997'"
      ]
     },
     "execution_count": 39,
     "metadata": {},
     "output_type": "execute_result"
    }
   ],
   "source": [
    "f\"Birinci Sınıf için ortalama: {titanic[(titanic.Pclass==1)].Fare.mean()}, İkinci Sınıf için ortalama: {titanic[(titanic.Pclass==2)].Fare.mean()}, Üçüncü Sınıf için ortalama:{titanic[(titanic.Pclass==3)].Fare.mean()}\"\n"
   ]
  },
  {
   "cell_type": "code",
   "execution_count": 36,
   "metadata": {
    "collapsed": true
   },
   "outputs": [
    {
     "data": {
      "text/plain": [
       "'Birinci Sınıf için mod: 0    26.55\\ndtype: float64, İkinci Sınıf için mod: 0    13.0\\ndtype: float64, Üçüncü Sınıf için mod:0    8.05\\ndtype: float64'"
      ]
     },
     "execution_count": 36,
     "metadata": {},
     "output_type": "execute_result"
    }
   ],
   "source": [
    "f\"Birinci Sınıf için mod: {titanic[(titanic.Pclass==1)].Fare.mode()}, İkinci Sınıf için mod: {titanic[(titanic.Pclass==2)].Fare.mode()}, Üçüncü Sınıf için mod:{titanic[(titanic.Pclass==3)].Fare.mode()}\"\n"
   ]
  },
  {
   "cell_type": "markdown",
   "metadata": {},
   "source": [
    "# Soru 6:"
   ]
  },
  {
   "cell_type": "markdown",
   "metadata": {},
   "source": [
    "Kazada ölen kadınların oranı ile erkeklerin oranını karşılaştırınız. Bir veya bir kaç cümle ile sonucu <b>yorumlayınız.</b>"
   ]
  },
  {
   "cell_type": "code",
   "execution_count": 42,
   "metadata": {},
   "outputs": [
    {
     "name": "stdout",
     "output_type": "stream",
     "text": [
      "Kazada ölen kadınların oranı= 0.14754098360655737\n",
      "Kazada ölen erkeklerin oranı= 0.8524590163934426\n",
      "Kazada erkek yolcular, kadın yolculara göre daha çok sayıda ölmüştür. \n"
     ]
    }
   ],
   "source": [
    "dead_men=titanic[(dead==True)&(men==True)]#kazada ölen erkek\n",
    "dead_women=titanic[(dead==True)&(men==False)]#kazada ölen kadın\n",
    "dead_top=titanic[dead==True]\n",
    "dead_women_rate=dead_women.shape[0]/dead_top.shape[0]\n",
    "dead_men_rate=dead_men.shape[0]/dead_top.shape[0]\n",
    "print(f\"Kazada ölen kadınların oranı= {dead_women_rate}\")\n",
    "print(f\"Kazada ölen erkeklerin oranı= {dead_men_rate}\")\n",
    "\n",
    "print(\"Kazada erkek yolcular, kadın yolculara göre daha çok sayıda ölmüştür. \")"
   ]
  },
  {
   "cell_type": "markdown",
   "metadata": {},
   "source": [
    "# Soru 7:"
   ]
  },
  {
   "cell_type": "markdown",
   "metadata": {},
   "source": [
    "Kazada ölen erkeklerin ortalama bilet fiyatı ile kurtulan erkeklerin ortalama bilet fiyatını karşılaştırınız. Bir veya bir kaç cümle ile sonucu <b>yorumlayınız.</b>"
   ]
  },
  {
   "cell_type": "code",
   "execution_count": 43,
   "metadata": {},
   "outputs": [
    {
     "name": "stdout",
     "output_type": "stream",
     "text": [
      "Kazada ölen erkeklerin bilet fiyatlarının ortalama değeri= 21.960992948717944\n",
      "Kazadan kurtulan erkeklerin bilet fiyatlarının ortalama değeri= 40.82148440366974\n",
      "Daha yüksek ücrete bilet alan erkek yolcuların kurtulma ihtimali daha yüksek olabilir. \n"
     ]
    }
   ],
   "source": [
    "dead_men_fare_mean=titanic[(dead==True)&(men==True)].Fare.mean()\n",
    "live_men_fare_mean=titanic[(dead==False)&(men==True)].Fare.mean()\n",
    "print(f\"Kazada ölen erkeklerin bilet fiyatlarının ortalama değeri= {dead_men_fare_mean}\")\n",
    "print(f\"Kazadan kurtulan erkeklerin bilet fiyatlarının ortalama değeri= {live_men_fare_mean}\")\n",
    "print(\"Daha yüksek ücrete bilet alan erkek yolcuların kurtulma ihtimali daha yüksek olabilir. \")"
   ]
  },
  {
   "cell_type": "markdown",
   "metadata": {},
   "source": [
    "# Missing Value Doldurma"
   ]
  },
  {
   "cell_type": "markdown",
   "metadata": {},
   "source": [
    "Bundan sonraki soruları <b>train_missing.csv</b> datasını kullanarak cevaplayınız."
   ]
  },
  {
   "cell_type": "code",
   "execution_count": 6,
   "metadata": {
    "collapsed": true
   },
   "outputs": [
    {
     "data": {
      "text/html": [
       "<div>\n",
       "<style scoped>\n",
       "    .dataframe tbody tr th:only-of-type {\n",
       "        vertical-align: middle;\n",
       "    }\n",
       "\n",
       "    .dataframe tbody tr th {\n",
       "        vertical-align: top;\n",
       "    }\n",
       "\n",
       "    .dataframe thead th {\n",
       "        text-align: right;\n",
       "    }\n",
       "</style>\n",
       "<table border=\"1\" class=\"dataframe\">\n",
       "  <thead>\n",
       "    <tr style=\"text-align: right;\">\n",
       "      <th></th>\n",
       "      <th>PassengerId</th>\n",
       "      <th>Survived</th>\n",
       "      <th>Pclass</th>\n",
       "      <th>Name</th>\n",
       "      <th>Sex</th>\n",
       "      <th>Age</th>\n",
       "      <th>SibSp</th>\n",
       "      <th>Parch</th>\n",
       "      <th>Ticket</th>\n",
       "      <th>Fare</th>\n",
       "      <th>Cabin</th>\n",
       "      <th>Embarked</th>\n",
       "    </tr>\n",
       "  </thead>\n",
       "  <tbody>\n",
       "    <tr>\n",
       "      <th>0</th>\n",
       "      <td>1</td>\n",
       "      <td>0</td>\n",
       "      <td>3</td>\n",
       "      <td>Braund, Mr. Owen Harris</td>\n",
       "      <td>male</td>\n",
       "      <td>22.0</td>\n",
       "      <td>1.0</td>\n",
       "      <td>0</td>\n",
       "      <td>A/5 21171</td>\n",
       "      <td>7.2500</td>\n",
       "      <td>NaN</td>\n",
       "      <td>S</td>\n",
       "    </tr>\n",
       "    <tr>\n",
       "      <th>1</th>\n",
       "      <td>2</td>\n",
       "      <td>1</td>\n",
       "      <td>1</td>\n",
       "      <td>Cumings, Mrs. John Bradley (Florence Briggs Th...</td>\n",
       "      <td>female</td>\n",
       "      <td>38.0</td>\n",
       "      <td>1.0</td>\n",
       "      <td>0</td>\n",
       "      <td>PC 17599</td>\n",
       "      <td>71.2833</td>\n",
       "      <td>C85</td>\n",
       "      <td>C</td>\n",
       "    </tr>\n",
       "    <tr>\n",
       "      <th>2</th>\n",
       "      <td>3</td>\n",
       "      <td>1</td>\n",
       "      <td>3</td>\n",
       "      <td>Heikkinen, Miss. Laina</td>\n",
       "      <td>female</td>\n",
       "      <td>26.0</td>\n",
       "      <td>0.0</td>\n",
       "      <td>0</td>\n",
       "      <td>STON/O2. 3101282</td>\n",
       "      <td>7.9250</td>\n",
       "      <td>NaN</td>\n",
       "      <td>NaN</td>\n",
       "    </tr>\n",
       "    <tr>\n",
       "      <th>3</th>\n",
       "      <td>4</td>\n",
       "      <td>1</td>\n",
       "      <td>1</td>\n",
       "      <td>Futrelle, Mrs. Jacques Heath (Lily May Peel)</td>\n",
       "      <td>female</td>\n",
       "      <td>35.0</td>\n",
       "      <td>1.0</td>\n",
       "      <td>0</td>\n",
       "      <td>113803</td>\n",
       "      <td>53.1000</td>\n",
       "      <td>C123</td>\n",
       "      <td>S</td>\n",
       "    </tr>\n",
       "    <tr>\n",
       "      <th>4</th>\n",
       "      <td>5</td>\n",
       "      <td>0</td>\n",
       "      <td>3</td>\n",
       "      <td>Allen, Mr. William Henry</td>\n",
       "      <td>male</td>\n",
       "      <td>35.0</td>\n",
       "      <td>0.0</td>\n",
       "      <td>0</td>\n",
       "      <td>373450</td>\n",
       "      <td>8.0500</td>\n",
       "      <td>NaN</td>\n",
       "      <td>NaN</td>\n",
       "    </tr>\n",
       "    <tr>\n",
       "      <th>...</th>\n",
       "      <td>...</td>\n",
       "      <td>...</td>\n",
       "      <td>...</td>\n",
       "      <td>...</td>\n",
       "      <td>...</td>\n",
       "      <td>...</td>\n",
       "      <td>...</td>\n",
       "      <td>...</td>\n",
       "      <td>...</td>\n",
       "      <td>...</td>\n",
       "      <td>...</td>\n",
       "      <td>...</td>\n",
       "    </tr>\n",
       "    <tr>\n",
       "      <th>886</th>\n",
       "      <td>887</td>\n",
       "      <td>0</td>\n",
       "      <td>2</td>\n",
       "      <td>Montvila, Rev. Juozas</td>\n",
       "      <td>male</td>\n",
       "      <td>27.0</td>\n",
       "      <td>0.0</td>\n",
       "      <td>0</td>\n",
       "      <td>211536</td>\n",
       "      <td>13.0000</td>\n",
       "      <td>NaN</td>\n",
       "      <td>S</td>\n",
       "    </tr>\n",
       "    <tr>\n",
       "      <th>887</th>\n",
       "      <td>888</td>\n",
       "      <td>1</td>\n",
       "      <td>1</td>\n",
       "      <td>Graham, Miss. Margaret Edith</td>\n",
       "      <td>female</td>\n",
       "      <td>19.0</td>\n",
       "      <td>0.0</td>\n",
       "      <td>0</td>\n",
       "      <td>112053</td>\n",
       "      <td>30.0000</td>\n",
       "      <td>B42</td>\n",
       "      <td>S</td>\n",
       "    </tr>\n",
       "    <tr>\n",
       "      <th>888</th>\n",
       "      <td>889</td>\n",
       "      <td>0</td>\n",
       "      <td>3</td>\n",
       "      <td>Johnston, Miss. Catherine Helen \"Carrie\"</td>\n",
       "      <td>female</td>\n",
       "      <td>NaN</td>\n",
       "      <td>1.0</td>\n",
       "      <td>2</td>\n",
       "      <td>W./C. 6607</td>\n",
       "      <td>NaN</td>\n",
       "      <td>NaN</td>\n",
       "      <td>S</td>\n",
       "    </tr>\n",
       "    <tr>\n",
       "      <th>889</th>\n",
       "      <td>890</td>\n",
       "      <td>1</td>\n",
       "      <td>1</td>\n",
       "      <td>Behr, Mr. Karl Howell</td>\n",
       "      <td>male</td>\n",
       "      <td>26.0</td>\n",
       "      <td>0.0</td>\n",
       "      <td>0</td>\n",
       "      <td>111369</td>\n",
       "      <td>30.0000</td>\n",
       "      <td>C148</td>\n",
       "      <td>NaN</td>\n",
       "    </tr>\n",
       "    <tr>\n",
       "      <th>890</th>\n",
       "      <td>891</td>\n",
       "      <td>0</td>\n",
       "      <td>3</td>\n",
       "      <td>Dooley, Mr. Patrick</td>\n",
       "      <td>male</td>\n",
       "      <td>32.0</td>\n",
       "      <td>0.0</td>\n",
       "      <td>0</td>\n",
       "      <td>370376</td>\n",
       "      <td>7.7500</td>\n",
       "      <td>NaN</td>\n",
       "      <td>Q</td>\n",
       "    </tr>\n",
       "  </tbody>\n",
       "</table>\n",
       "<p>891 rows × 12 columns</p>\n",
       "</div>"
      ],
      "text/plain": [
       "     PassengerId  Survived  Pclass  \\\n",
       "0              1         0       3   \n",
       "1              2         1       1   \n",
       "2              3         1       3   \n",
       "3              4         1       1   \n",
       "4              5         0       3   \n",
       "..           ...       ...     ...   \n",
       "886          887         0       2   \n",
       "887          888         1       1   \n",
       "888          889         0       3   \n",
       "889          890         1       1   \n",
       "890          891         0       3   \n",
       "\n",
       "                                                  Name     Sex   Age  SibSp  \\\n",
       "0                              Braund, Mr. Owen Harris    male  22.0    1.0   \n",
       "1    Cumings, Mrs. John Bradley (Florence Briggs Th...  female  38.0    1.0   \n",
       "2                               Heikkinen, Miss. Laina  female  26.0    0.0   \n",
       "3         Futrelle, Mrs. Jacques Heath (Lily May Peel)  female  35.0    1.0   \n",
       "4                             Allen, Mr. William Henry    male  35.0    0.0   \n",
       "..                                                 ...     ...   ...    ...   \n",
       "886                              Montvila, Rev. Juozas    male  27.0    0.0   \n",
       "887                       Graham, Miss. Margaret Edith  female  19.0    0.0   \n",
       "888           Johnston, Miss. Catherine Helen \"Carrie\"  female   NaN    1.0   \n",
       "889                              Behr, Mr. Karl Howell    male  26.0    0.0   \n",
       "890                                Dooley, Mr. Patrick    male  32.0    0.0   \n",
       "\n",
       "     Parch            Ticket     Fare Cabin Embarked  \n",
       "0        0         A/5 21171   7.2500   NaN        S  \n",
       "1        0          PC 17599  71.2833   C85        C  \n",
       "2        0  STON/O2. 3101282   7.9250   NaN      NaN  \n",
       "3        0            113803  53.1000  C123        S  \n",
       "4        0            373450   8.0500   NaN      NaN  \n",
       "..     ...               ...      ...   ...      ...  \n",
       "886      0            211536  13.0000   NaN        S  \n",
       "887      0            112053  30.0000   B42        S  \n",
       "888      2        W./C. 6607      NaN   NaN        S  \n",
       "889      0            111369  30.0000  C148      NaN  \n",
       "890      0            370376   7.7500   NaN        Q  \n",
       "\n",
       "[891 rows x 12 columns]"
      ]
     },
     "metadata": {},
     "output_type": "display_data"
    }
   ],
   "source": [
    "titanic_missing=pd.read_csv(\"train_missing.csv\")\n",
    "display(titanic_missing)"
   ]
  },
  {
   "cell_type": "markdown",
   "metadata": {},
   "source": [
    "# Soru 8"
   ]
  },
  {
   "cell_type": "markdown",
   "metadata": {},
   "source": [
    "Age, Embarked ve Fare değişkenlerini mean/median/mode değerlerini kullanarak değişken tipine uygun olacak şekilde doldurunuz."
   ]
  },
  {
   "cell_type": "code",
   "execution_count": 44,
   "metadata": {},
   "outputs": [
    {
     "name": "stdout",
     "output_type": "stream",
     "text": [
      "29.699117647058763 29.69911764705882\n",
      "28.0 28.0\n"
     ]
    }
   ],
   "source": [
    "# Age ortalama ve median ile dolduruluyor\n",
    "titanic_8_mean=titanic_missing.copy()\n",
    "titanic_8_mean.Age=titanic_8_mean.Age.fillna(titanic_8_mean.Age.mean()) #ortalama ile nanlar dolduruluyor\n",
    "print(titanic_8_mean.Age.mean(),titanic_missing.Age.mean())\n",
    "\n",
    "titanic_8_median=titanic_missing.copy()\n",
    "titanic_8_median.Age=titanic_8_median.Age.fillna(titanic_8_median.Age.median()) #ortalama ile nanlar dolduruluyor\n",
    "print(titanic_8_median.Age.median(),titanic_missing.Age.median())\n"
   ]
  },
  {
   "cell_type": "code",
   "execution_count": 45,
   "metadata": {},
   "outputs": [
    {
     "name": "stdout",
     "output_type": "stream",
     "text": [
      "31.84482187499989 31.844821874999965\n",
      "14.45625 14.45625\n"
     ]
    }
   ],
   "source": [
    "# Fare ortalama ve median ile dolduruluyor\n",
    "titanic_8_mean=titanic_missing.copy()\n",
    "titanic_8_median=titanic_missing.copy()\n",
    "titanic_8_mean.Fare=titanic_8_mean.Fare.fillna(titanic_8_mean.Fare.mean()) #ortalama ile nanlar dolduruluyor\n",
    "print(titanic_8_mean.Fare.mean(),titanic_missing.Fare.mean())\n",
    "titanic_8_median.Fare=titanic_8_median.Fare.fillna(titanic_8_median.Fare.median()) #ortalama ile nanlar dolduruluyor\n",
    "print(titanic_8_median.Fare.median(),titanic_missing.Fare.median())\n"
   ]
  },
  {
   "cell_type": "code",
   "execution_count": 46,
   "metadata": {},
   "outputs": [
    {
     "name": "stdout",
     "output_type": "stream",
     "text": [
      "0    S\n",
      "dtype: object 0    S\n",
      "dtype: object\n"
     ]
    },
    {
     "data": {
      "text/plain": [
       "0"
      ]
     },
     "execution_count": 46,
     "metadata": {},
     "output_type": "execute_result"
    }
   ],
   "source": [
    "\n",
    "titanic_8_mode=titanic_missing.copy()\n",
    "titanic_8_mode.Embarked=titanic_8_mode.Embarked.fillna(titanic_8_mode.Embarked.mode()[0]) #ortalama ile nanlar dolduruluyor\n",
    "print(titanic_8_mode.Embarked.mode(),titanic_missing.Embarked.mode())\n"
   ]
  },
  {
   "cell_type": "markdown",
   "metadata": {},
   "source": [
    "# Soru 9"
   ]
  },
  {
   "cell_type": "markdown",
   "metadata": {},
   "source": [
    "SibSp değişkeni hangi yöntemler ile doldurulabilir, fikir yürütün. Uygun bir yöntem ile doldurun. (SibSp değişkeni kişilerin gemide bulunan kardeş/eş sayısını belirtiyor.)"
   ]
  },
  {
   "cell_type": "code",
   "execution_count": 71,
   "metadata": {},
   "outputs": [],
   "source": [
    "titanic_9=titanic_missing.copy()\n"
   ]
  },
  {
   "cell_type": "code",
   "execution_count": 75,
   "metadata": {},
   "outputs": [],
   "source": [
    "from sklearn.linear_model import LinearRegression\n",
    "lin_reg = LinearRegression()\n",
    "titanic_9_with_null = titanic_missing[[\"Pclass\", \"SibSp\",\"Parch\"]]\n",
    "titanic_9_without_null = titanic_9_with_null.dropna()"
   ]
  },
  {
   "cell_type": "code",
   "execution_count": 76,
   "metadata": {},
   "outputs": [],
   "source": [
    "X = titanic_9_without_null.iloc[:,[0,2]] # Pclass Parch alındı"
   ]
  },
  {
   "cell_type": "code",
   "execution_count": 77,
   "metadata": {},
   "outputs": [],
   "source": [
    "Y = titanic_9_without_null.iloc[:,1]  # SibSp alındı"
   ]
  },
  {
   "cell_type": "code",
   "execution_count": 78,
   "metadata": {},
   "outputs": [
    {
     "data": {
      "text/plain": [
       "LinearRegression()"
      ]
     },
     "execution_count": 78,
     "metadata": {},
     "output_type": "execute_result"
    }
   ],
   "source": [
    "lin_reg.fit(X,Y)#model yapıldı"
   ]
  },
  {
   "cell_type": "code",
   "execution_count": 79,
   "metadata": {},
   "outputs": [],
   "source": [
    "test_X =  titanic_9_with_null.iloc[:,[0,2]] \n"
   ]
  },
  {
   "cell_type": "code",
   "execution_count": 80,
   "metadata": {
    "collapsed": true
   },
   "outputs": [
    {
     "data": {
      "text/plain": [
       "array([0.38468848, 0.15780506, 0.38468848, 0.15780506, 0.38468848,\n",
       "       0.38468848, 0.15780506, 0.95650939, 1.52833029, 0.27124677,\n",
       "       0.95650939, 0.15780506, 0.38468848, 3.243793  , 0.38468848,\n",
       "       0.27124677, 0.95650939, 0.27124677, 0.38468848, 0.38468848,\n",
       "       0.27124677, 0.27124677, 0.38468848, 0.15780506, 0.95650939,\n",
       "       3.243793  , 0.38468848, 1.30144687, 0.38468848, 0.38468848,\n",
       "       0.15780506, 0.15780506, 0.38468848, 0.27124677, 0.15780506,\n",
       "       0.15780506, 0.38468848, 0.38468848, 0.38468848, 0.38468848,\n",
       "       0.38468848, 0.27124677, 0.38468848, 1.41488858, 0.38468848,\n",
       "       0.38468848, 0.38468848, 0.38468848, 0.38468848, 0.38468848,\n",
       "       0.95650939, 0.38468848, 0.15780506, 0.27124677, 0.72962597,\n",
       "       0.15780506, 0.27124677, 0.38468848, 1.41488858, 1.52833029,\n",
       "       0.38468848, 0.15780506, 0.15780506, 1.52833029, 0.15780506,\n",
       "       0.95650939, 0.27124677, 0.38468848, 1.52833029, 0.38468848,\n",
       "       0.27124677, 1.52833029, 0.27124677, 0.38468848, 0.38468848,\n",
       "       0.38468848, 0.38468848, 0.38468848, 1.41488858, 0.38468848,\n",
       "       0.38468848, 0.38468848, 0.38468848, 0.15780506, 0.27124677,\n",
       "       0.38468848, 2.10015119, 0.38468848, 1.30144687, 0.38468848,\n",
       "       0.38468848, 0.38468848, 0.15780506, 1.52833029, 0.38468848,\n",
       "       0.38468848, 0.15780506, 0.72962597, 0.84306768, 0.27124677,\n",
       "       0.38468848, 0.38468848, 0.72962597, 0.38468848, 0.38468848,\n",
       "       0.38468848, 0.38468848, 0.38468848, 0.38468848, 0.38468848,\n",
       "       0.15780506, 0.38468848, 0.38468848, 0.38468848, 0.38468848,\n",
       "       0.38468848, 0.38468848, 0.27124677, 0.72962597, 1.52833029,\n",
       "       0.27124677, 0.38468848, 0.27124677, 0.27124677, 0.72962597,\n",
       "       0.38468848, 0.38468848, 0.38468848, 0.95650939, 0.38468848,\n",
       "       0.38468848, 0.38468848, 0.38468848, 0.27124677, 0.27124677,\n",
       "       0.27124677, 1.30144687, 0.15780506, 0.38468848, 0.15780506,\n",
       "       1.52833029, 0.38468848, 0.38468848, 0.38468848, 0.27124677,\n",
       "       0.84306768, 0.38468848, 1.52833029, 1.41488858, 0.27124677,\n",
       "       0.27124677, 0.15780506, 0.38468848, 1.52833029, 0.38468848,\n",
       "       0.72962597, 0.38468848, 0.38468848, 0.38468848, 1.52833029,\n",
       "       0.95650939, 0.27124677, 0.38468848, 0.38468848, 0.95650939,\n",
       "       1.52833029, 0.72962597, 2.6719721 , 0.15780506, 0.38468848,\n",
       "       0.15780506, 0.95650939, 0.95650939, 0.38468848, 0.15780506,\n",
       "       0.95650939, 0.95650939, 0.15780506, 0.27124677, 0.38468848,\n",
       "       1.52833029, 0.27124677, 1.52833029, 0.84306768, 1.52833029,\n",
       "       0.15780506, 0.38468848, 0.15780506, 0.95650939, 0.38468848,\n",
       "       0.27124677, 0.27124677, 0.38468848, 0.84306768, 0.15780506,\n",
       "       0.15780506, 0.38468848, 0.95650939, 0.38468848, 0.27124677,\n",
       "       0.38468848, 1.52833029, 0.38468848, 0.38468848, 0.38468848,\n",
       "       0.95650939, 0.38468848, 0.38468848, 0.38468848, 0.15780506,\n",
       "       0.38468848, 0.27124677, 0.38468848, 0.27124677, 0.38468848,\n",
       "       0.15780506, 0.38468848, 0.27124677, 0.15780506, 0.27124677,\n",
       "       0.38468848, 0.27124677, 0.38468848, 0.38468848, 0.15780506,\n",
       "       0.38468848, 0.27124677, 0.38468848, 0.27124677, 0.95650939,\n",
       "       0.15780506, 0.38468848, 0.27124677, 1.52833029, 0.27124677,\n",
       "       0.38468848, 0.27124677, 1.41488858, 0.27124677, 0.27124677,\n",
       "       0.38468848, 0.38468848, 0.27124677, 0.38468848, 0.38468848,\n",
       "       0.15780506, 0.38468848, 1.41488858, 0.72962597, 0.27124677,\n",
       "       0.38468848, 0.95650939, 0.15780506, 0.38468848, 1.52833029,\n",
       "       1.52833029, 0.15780506, 0.15780506, 0.15780506, 0.84306768,\n",
       "       0.38468848, 1.52833029, 0.72962597, 0.15780506, 0.38468848,\n",
       "       0.27124677, 0.95650939, 0.38468848, 0.72962597, 0.15780506,\n",
       "       0.15780506, 0.38468848, 0.84306768, 0.72962597, 0.38468848,\n",
       "       0.15780506, 0.38468848, 0.27124677, 0.95650939, 0.95650939,\n",
       "       0.38468848, 0.38468848, 0.38468848, 0.38468848, 0.15780506,\n",
       "       0.38468848, 0.38468848, 0.38468848, 0.27124677, 0.38468848,\n",
       "       0.15780506, 0.15780506, 0.27124677, 0.38468848, 0.38468848,\n",
       "       0.15780506, 0.38468848, 1.30144687, 0.15780506, 0.72962597,\n",
       "       0.38468848, 0.38468848, 0.38468848, 0.27124677, 0.38468848,\n",
       "       1.30144687, 0.15780506, 0.15780506, 0.27124677, 0.15780506,\n",
       "       0.15780506, 1.30144687, 0.84306768, 0.38468848, 0.84306768,\n",
       "       0.38468848, 0.27124677, 0.27124677, 1.30144687, 0.72962597,\n",
       "       0.38468848, 0.38468848, 0.27124677, 0.84306768, 1.52833029,\n",
       "       0.15780506, 0.38468848, 0.27124677, 0.95650939, 0.72962597,\n",
       "       0.38468848, 0.15780506, 0.72962597, 0.38468848, 0.15780506,\n",
       "       0.38468848, 0.15780506, 0.15780506, 0.38468848, 0.15780506,\n",
       "       0.84306768, 1.30144687, 0.27124677, 0.27124677, 0.27124677,\n",
       "       0.27124677, 0.27124677, 0.38468848, 0.95650939, 0.38468848,\n",
       "       0.38468848, 0.15780506, 0.95650939, 0.38468848, 0.38468848,\n",
       "       0.38468848, 0.72962597, 0.27124677, 0.38468848, 0.38468848,\n",
       "       2.6719721 , 0.27124677, 0.95650939, 0.38468848, 0.38468848,\n",
       "       0.38468848, 0.15780506, 0.38468848, 0.38468848, 0.15780506,\n",
       "       0.15780506, 0.38468848, 0.38468848, 0.15780506, 0.95650939,\n",
       "       0.15780506, 0.38468848, 1.30144687, 0.38468848, 0.38468848,\n",
       "       0.15780506, 1.52833029, 0.38468848, 0.15780506, 0.38468848,\n",
       "       0.27124677, 1.52833029, 0.27124677, 0.38468848, 0.27124677,\n",
       "       1.30144687, 0.38468848, 0.38468848, 0.15780506, 1.52833029,\n",
       "       0.38468848, 0.38468848, 0.27124677, 0.27124677, 0.27124677,\n",
       "       0.38468848, 0.38468848, 0.38468848, 0.38468848, 0.38468848,\n",
       "       0.27124677, 0.38468848, 0.84306768, 0.38468848, 0.95650939,\n",
       "       0.38468848, 0.38468848, 0.15780506, 0.27124677, 0.38468848,\n",
       "       0.38468848, 0.84306768, 1.41488858, 0.27124677, 1.52833029,\n",
       "       0.38468848, 0.38468848, 0.38468848, 0.95650939, 0.95650939,\n",
       "       0.38468848, 0.27124677, 0.27124677, 0.38468848, 0.38468848,\n",
       "       0.15780506, 0.38468848, 0.27124677, 0.38468848, 0.15780506,\n",
       "       1.30144687, 1.52833029, 1.98670948, 2.44508868, 0.27124677,\n",
       "       0.84306768, 0.38468848, 0.38468848, 0.27124677, 0.38468848,\n",
       "       1.30144687, 0.84306768, 0.15780506, 0.95650939, 0.15780506,\n",
       "       1.41488858, 0.38468848, 0.15780506, 0.15780506, 0.38468848,\n",
       "       0.38468848, 0.15780506, 0.15780506, 0.27124677, 0.38468848,\n",
       "       0.15780506, 0.38468848, 0.15780506, 0.27124677, 0.38468848,\n",
       "       0.38468848, 0.27124677, 0.15780506, 0.38468848, 0.95650939,\n",
       "       0.38468848, 0.38468848, 1.41488858, 0.27124677, 0.38468848,\n",
       "       0.15780506, 0.27124677, 0.38468848, 0.38468848, 0.95650939,\n",
       "       1.52833029, 0.27124677, 0.38468848, 0.38468848, 0.15780506,\n",
       "       0.95650939, 0.15780506, 0.15780506, 0.38468848, 0.95650939,\n",
       "       0.38468848, 0.38468848, 0.15780506, 0.15780506, 0.38468848,\n",
       "       0.38468848, 0.15780506, 0.38468848, 1.30144687, 0.38468848,\n",
       "       0.38468848, 0.38468848, 0.38468848, 0.38468848, 0.15780506,\n",
       "       0.15780506, 1.41488858, 0.15780506, 0.38468848, 0.38468848,\n",
       "       0.38468848, 0.38468848, 0.15780506, 0.15780506, 0.38468848,\n",
       "       0.15780506, 0.27124677, 0.38468848, 0.27124677, 0.38468848,\n",
       "       0.15780506, 0.38468848, 0.38468848, 0.72962597, 0.38468848,\n",
       "       0.38468848, 0.27124677, 0.15780506, 0.38468848, 0.84306768,\n",
       "       0.84306768, 0.38468848, 0.95650939, 1.52833029, 0.38468848,\n",
       "       1.41488858, 0.15780506, 0.15780506, 0.38468848, 1.30144687,\n",
       "       1.30144687, 1.52833029, 1.52833029, 0.27124677, 0.15780506,\n",
       "       0.15780506, 0.27124677, 0.27124677, 0.95650939, 0.84306768,\n",
       "       1.30144687, 0.27124677, 0.38468848, 0.38468848, 0.38468848,\n",
       "       0.15780506, 0.15780506, 0.15780506, 0.72962597, 0.38468848,\n",
       "       0.38468848, 0.38468848, 0.27124677, 0.38468848, 0.38468848,\n",
       "       0.38468848, 0.38468848, 2.6719721 , 0.38468848, 0.38468848,\n",
       "       0.27124677, 0.15780506, 0.15780506, 0.38468848, 0.38468848,\n",
       "       0.38468848, 0.27124677, 0.15780506, 0.38468848, 0.38468848,\n",
       "       0.84306768, 0.72962597, 0.27124677, 0.15780506, 0.38468848,\n",
       "       1.30144687, 0.27124677, 0.72962597, 0.38468848, 0.38468848,\n",
       "       0.38468848, 0.15780506, 0.38468848, 1.52833029, 0.27124677,\n",
       "       0.95650939, 0.27124677, 0.38468848, 0.38468848, 0.15780506,\n",
       "       0.84306768, 0.38468848, 0.15780506, 0.38468848, 0.15780506,\n",
       "       0.38468848, 0.38468848, 0.15780506, 1.41488858, 0.15780506,\n",
       "       3.243793  , 0.38468848, 0.38468848, 0.38468848, 0.38468848,\n",
       "       1.41488858, 0.95650939, 0.38468848, 0.84306768, 0.27124677,\n",
       "       0.38468848, 0.15780506, 0.95650939, 0.38468848, 0.38468848,\n",
       "       0.15780506, 0.27124677, 0.15780506, 0.38468848, 0.38468848,\n",
       "       0.15780506, 0.38468848, 0.15780506, 0.15780506, 1.52833029,\n",
       "       0.27124677, 0.38468848, 0.84306768, 3.243793  , 0.38468848,\n",
       "       0.38468848, 0.15780506, 1.52833029, 0.38468848, 0.95650939,\n",
       "       0.15780506, 0.38468848, 0.15780506, 0.38468848, 0.38468848,\n",
       "       0.38468848, 0.84306768, 0.38468848, 0.38468848, 0.38468848,\n",
       "       0.27124677, 0.38468848, 0.95650939, 0.27124677, 1.30144687,\n",
       "       0.15780506, 0.38468848, 0.15780506, 0.38468848, 0.38468848,\n",
       "       0.27124677, 0.27124677, 0.38468848, 0.38468848, 0.15780506,\n",
       "       0.84306768, 0.15780506, 0.27124677, 0.27124677, 0.27124677,\n",
       "       0.38468848, 0.38468848, 0.38468848, 3.81561391, 0.72962597,\n",
       "       0.38468848, 0.15780506, 0.38468848, 1.52833029, 0.84306768,\n",
       "       1.41488858, 0.95650939, 0.38468848, 0.38468848, 0.72962597,\n",
       "       0.15780506, 0.95650939, 0.38468848, 0.38468848, 0.15780506,\n",
       "       0.27124677, 0.38468848, 0.38468848, 0.72962597, 0.38468848,\n",
       "       0.15780506, 0.15780506, 0.95650939, 0.38468848, 0.38468848,\n",
       "       0.27124677, 0.27124677, 0.15780506, 0.15780506, 0.95650939,\n",
       "       0.15780506, 0.15780506, 0.15780506, 0.38468848, 0.27124677,\n",
       "       0.38468848, 0.15780506, 0.27124677, 0.38468848, 0.38468848,\n",
       "       0.84306768, 0.38468848, 0.27124677, 0.27124677, 0.15780506,\n",
       "       0.38468848, 0.27124677, 0.38468848, 0.27124677, 0.38468848,\n",
       "       0.15780506, 0.38468848, 0.27124677, 0.27124677, 0.27124677,\n",
       "       0.38468848, 2.10015119, 0.15780506, 0.38468848, 0.38468848,\n",
       "       0.15780506, 0.15780506, 1.30144687, 0.38468848, 0.38468848,\n",
       "       0.72962597, 0.95650939, 0.27124677, 0.15780506, 0.38468848,\n",
       "       0.84306768, 0.95650939, 0.38468848, 0.38468848, 1.41488858,\n",
       "       0.84306768, 0.38468848, 0.27124677, 0.38468848, 0.15780506,\n",
       "       0.38468848, 0.38468848, 0.38468848, 1.30144687, 0.38468848,\n",
       "       0.15780506, 0.15780506, 0.38468848, 0.38468848, 0.38468848,\n",
       "       0.38468848, 0.38468848, 0.27124677, 0.38468848, 1.98670948,\n",
       "       0.38468848, 0.38468848, 0.38468848, 0.38468848, 0.72962597,\n",
       "       0.38468848, 0.15780506, 0.15780506, 1.52833029, 0.38468848,\n",
       "       0.38468848, 0.38468848, 0.95650939, 1.52833029, 0.15780506,\n",
       "       0.38468848, 0.27124677, 1.52833029, 0.15780506, 0.38468848,\n",
       "       0.27124677, 0.15780506, 0.38468848, 0.38468848, 0.95650939,\n",
       "       0.27124677, 0.84306768, 1.30144687, 0.95650939, 0.38468848,\n",
       "       0.38468848, 0.15780506, 0.38468848, 0.27124677, 0.15780506,\n",
       "       0.38468848, 0.38468848, 0.27124677, 1.52833029, 0.38468848,\n",
       "       0.15780506, 0.38468848, 0.84306768, 0.38468848, 1.52833029,\n",
       "       0.72962597, 0.38468848, 0.15780506, 0.95650939, 0.95650939,\n",
       "       0.38468848, 0.38468848, 1.41488858, 0.38468848, 0.15780506,\n",
       "       0.38468848, 0.84306768, 0.38468848, 0.38468848, 0.38468848,\n",
       "       0.72962597, 0.38468848, 0.38468848, 0.38468848, 0.15780506,\n",
       "       0.38468848, 0.27124677, 0.15780506, 0.38468848, 0.38468848,\n",
       "       0.38468848, 1.52833029, 0.38468848, 0.84306768, 0.15780506,\n",
       "       1.52833029, 0.38468848, 0.95650939, 0.72962597, 0.27124677,\n",
       "       0.95650939, 0.72962597, 0.15780506, 2.10015119, 0.38468848,\n",
       "       0.38468848, 0.27124677, 0.15780506, 1.52833029, 0.27124677,\n",
       "       0.27124677, 0.27124677, 0.15780506, 0.38468848, 0.95650939,\n",
       "       0.38468848, 0.72962597, 0.15780506, 0.38468848, 0.27124677,\n",
       "       0.38468848, 0.38468848, 0.38468848, 0.38468848, 0.72962597,\n",
       "       0.84306768, 0.38468848, 0.38468848, 0.27124677, 0.38468848,\n",
       "       3.243793  , 0.27124677, 0.15780506, 1.52833029, 0.15780506,\n",
       "       0.38468848])"
      ]
     },
     "execution_count": 80,
     "metadata": {},
     "output_type": "execute_result"
    }
   ],
   "source": [
    "lin_reg.predict(test_X)"
   ]
  },
  {
   "cell_type": "code",
   "execution_count": 81,
   "metadata": {},
   "outputs": [],
   "source": [
    "filled_SibSp = pd.Series(lin_reg.predict(test_X))"
   ]
  },
  {
   "cell_type": "code",
   "execution_count": 83,
   "metadata": {
    "scrolled": true
   },
   "outputs": [],
   "source": [
    "titanic_9_with_null.SibSp.fillna(filled_SibSp, inplace=True)"
   ]
  },
  {
   "cell_type": "code",
   "execution_count": 86,
   "metadata": {},
   "outputs": [
    {
     "data": {
      "text/plain": [
       "Pclass    0\n",
       "SibSp     0\n",
       "Parch     0\n",
       "dtype: int64"
      ]
     },
     "execution_count": 86,
     "metadata": {},
     "output_type": "execute_result"
    }
   ],
   "source": [
    "titanic_9_with_null.isnull().sum()"
   ]
  },
  {
   "cell_type": "code",
   "execution_count": 134,
   "metadata": {
    "scrolled": true
   },
   "outputs": [
    {
     "name": "stdout",
     "output_type": "stream",
     "text": [
      "SibSp sütunu doldurulmuş ortalama= 0.5244629101849941\n",
      "SibSp sütunu doldurulmamış ortalama = 0.5353675450762829\n"
     ]
    }
   ],
   "source": [
    "print(f\"SibSp sütunu doldurulmuş ortalama= {titanic_9_with_null.SibSp.mean()}\")\n",
    "print(f\"SibSp sütunu doldurulmamış ortalama = {titanic_missing.SibSp.mean()}\")"
   ]
  },
  {
   "cell_type": "code",
   "execution_count": 133,
   "metadata": {},
   "outputs": [
    {
     "name": "stdout",
     "output_type": "stream",
     "text": [
      "SibSp sütunu doldurulmuş varyansı= 1.0883835287529737\n",
      "SibSp sütunu doldurulmamış varyansı = 1.3018723994452375\n"
     ]
    }
   ],
   "source": [
    "print(f\"SibSp sütunu doldurulmuş varyansı= {titanic_9_with_null.SibSp.var()}\")\n",
    "print(f\"SibSp sütunu doldurulmamış varyansı = {titanic_missing.SibSp.var()}\")\n"
   ]
  },
  {
   "cell_type": "markdown",
   "metadata": {},
   "source": [
    "# Soru 10"
   ]
  },
  {
   "cell_type": "markdown",
   "metadata": {},
   "source": [
    "Datayı baştan okuyun. Embarked değişkenini \"NAN\" şeklinde yeni bir kategorisi olacak şekilde doldurun."
   ]
  },
  {
   "cell_type": "code",
   "execution_count": 137,
   "metadata": {},
   "outputs": [
    {
     "data": {
      "text/plain": [
       "0        S\n",
       "1        C\n",
       "2      NaN\n",
       "3        S\n",
       "4      NaN\n",
       "      ... \n",
       "886      S\n",
       "887      S\n",
       "888      S\n",
       "889    NaN\n",
       "890      Q\n",
       "Name: Embarked, Length: 891, dtype: object"
      ]
     },
     "metadata": {},
     "output_type": "display_data"
    }
   ],
   "source": [
    "titanic_missing_10=titanic_missing.copy()\n",
    "display(titanic_missing_10.Embarked)\n"
   ]
  },
  {
   "cell_type": "code",
   "execution_count": 109,
   "metadata": {
    "collapsed": true
   },
   "outputs": [
    {
     "data": {
      "text/html": [
       "<div>\n",
       "<style scoped>\n",
       "    .dataframe tbody tr th:only-of-type {\n",
       "        vertical-align: middle;\n",
       "    }\n",
       "\n",
       "    .dataframe tbody tr th {\n",
       "        vertical-align: top;\n",
       "    }\n",
       "\n",
       "    .dataframe thead th {\n",
       "        text-align: right;\n",
       "    }\n",
       "</style>\n",
       "<table border=\"1\" class=\"dataframe\">\n",
       "  <thead>\n",
       "    <tr style=\"text-align: right;\">\n",
       "      <th></th>\n",
       "      <th>PassengerId</th>\n",
       "      <th>Survived</th>\n",
       "      <th>Pclass</th>\n",
       "      <th>Name</th>\n",
       "      <th>Sex</th>\n",
       "      <th>Age</th>\n",
       "      <th>SibSp</th>\n",
       "      <th>Parch</th>\n",
       "      <th>Ticket</th>\n",
       "      <th>Fare</th>\n",
       "      <th>Cabin</th>\n",
       "      <th>Embarked</th>\n",
       "    </tr>\n",
       "  </thead>\n",
       "  <tbody>\n",
       "    <tr>\n",
       "      <th>0</th>\n",
       "      <td>1</td>\n",
       "      <td>0</td>\n",
       "      <td>3</td>\n",
       "      <td>Braund, Mr. Owen Harris</td>\n",
       "      <td>male</td>\n",
       "      <td>22.0</td>\n",
       "      <td>1.0</td>\n",
       "      <td>0</td>\n",
       "      <td>A/5 21171</td>\n",
       "      <td>7.2500</td>\n",
       "      <td>NaN</td>\n",
       "      <td>S</td>\n",
       "    </tr>\n",
       "    <tr>\n",
       "      <th>1</th>\n",
       "      <td>2</td>\n",
       "      <td>1</td>\n",
       "      <td>1</td>\n",
       "      <td>Cumings, Mrs. John Bradley (Florence Briggs Th...</td>\n",
       "      <td>female</td>\n",
       "      <td>38.0</td>\n",
       "      <td>1.0</td>\n",
       "      <td>0</td>\n",
       "      <td>PC 17599</td>\n",
       "      <td>71.2833</td>\n",
       "      <td>C85</td>\n",
       "      <td>C</td>\n",
       "    </tr>\n",
       "    <tr>\n",
       "      <th>2</th>\n",
       "      <td>3</td>\n",
       "      <td>1</td>\n",
       "      <td>3</td>\n",
       "      <td>Heikkinen, Miss. Laina</td>\n",
       "      <td>female</td>\n",
       "      <td>26.0</td>\n",
       "      <td>0.0</td>\n",
       "      <td>0</td>\n",
       "      <td>STON/O2. 3101282</td>\n",
       "      <td>7.9250</td>\n",
       "      <td>NaN</td>\n",
       "      <td>NaN</td>\n",
       "    </tr>\n",
       "    <tr>\n",
       "      <th>3</th>\n",
       "      <td>4</td>\n",
       "      <td>1</td>\n",
       "      <td>1</td>\n",
       "      <td>Futrelle, Mrs. Jacques Heath (Lily May Peel)</td>\n",
       "      <td>female</td>\n",
       "      <td>35.0</td>\n",
       "      <td>1.0</td>\n",
       "      <td>0</td>\n",
       "      <td>113803</td>\n",
       "      <td>53.1000</td>\n",
       "      <td>C123</td>\n",
       "      <td>S</td>\n",
       "    </tr>\n",
       "    <tr>\n",
       "      <th>4</th>\n",
       "      <td>5</td>\n",
       "      <td>0</td>\n",
       "      <td>3</td>\n",
       "      <td>Allen, Mr. William Henry</td>\n",
       "      <td>male</td>\n",
       "      <td>35.0</td>\n",
       "      <td>0.0</td>\n",
       "      <td>0</td>\n",
       "      <td>373450</td>\n",
       "      <td>8.0500</td>\n",
       "      <td>NaN</td>\n",
       "      <td>NaN</td>\n",
       "    </tr>\n",
       "    <tr>\n",
       "      <th>5</th>\n",
       "      <td>6</td>\n",
       "      <td>0</td>\n",
       "      <td>3</td>\n",
       "      <td>Moran, Mr. James</td>\n",
       "      <td>male</td>\n",
       "      <td>NaN</td>\n",
       "      <td>0.0</td>\n",
       "      <td>0</td>\n",
       "      <td>330877</td>\n",
       "      <td>8.4583</td>\n",
       "      <td>NaN</td>\n",
       "      <td>Q</td>\n",
       "    </tr>\n",
       "    <tr>\n",
       "      <th>6</th>\n",
       "      <td>7</td>\n",
       "      <td>0</td>\n",
       "      <td>1</td>\n",
       "      <td>McCarthy, Mr. Timothy J</td>\n",
       "      <td>male</td>\n",
       "      <td>54.0</td>\n",
       "      <td>0.0</td>\n",
       "      <td>0</td>\n",
       "      <td>17463</td>\n",
       "      <td>51.8625</td>\n",
       "      <td>E46</td>\n",
       "      <td>S</td>\n",
       "    </tr>\n",
       "    <tr>\n",
       "      <th>7</th>\n",
       "      <td>8</td>\n",
       "      <td>0</td>\n",
       "      <td>3</td>\n",
       "      <td>Palsson, Master. Gosta Leonard</td>\n",
       "      <td>male</td>\n",
       "      <td>2.0</td>\n",
       "      <td>NaN</td>\n",
       "      <td>1</td>\n",
       "      <td>349909</td>\n",
       "      <td>21.0750</td>\n",
       "      <td>NaN</td>\n",
       "      <td>S</td>\n",
       "    </tr>\n",
       "    <tr>\n",
       "      <th>8</th>\n",
       "      <td>9</td>\n",
       "      <td>1</td>\n",
       "      <td>3</td>\n",
       "      <td>Johnson, Mrs. Oscar W (Elisabeth Vilhelmina Berg)</td>\n",
       "      <td>female</td>\n",
       "      <td>27.0</td>\n",
       "      <td>NaN</td>\n",
       "      <td>2</td>\n",
       "      <td>347742</td>\n",
       "      <td>11.1333</td>\n",
       "      <td>NaN</td>\n",
       "      <td>S</td>\n",
       "    </tr>\n",
       "    <tr>\n",
       "      <th>9</th>\n",
       "      <td>10</td>\n",
       "      <td>1</td>\n",
       "      <td>2</td>\n",
       "      <td>Nasser, Mrs. Nicholas (Adele Achem)</td>\n",
       "      <td>female</td>\n",
       "      <td>14.0</td>\n",
       "      <td>1.0</td>\n",
       "      <td>0</td>\n",
       "      <td>237736</td>\n",
       "      <td>30.0708</td>\n",
       "      <td>NaN</td>\n",
       "      <td>C</td>\n",
       "    </tr>\n",
       "  </tbody>\n",
       "</table>\n",
       "</div>"
      ],
      "text/plain": [
       "   PassengerId  Survived  Pclass  \\\n",
       "0            1         0       3   \n",
       "1            2         1       1   \n",
       "2            3         1       3   \n",
       "3            4         1       1   \n",
       "4            5         0       3   \n",
       "5            6         0       3   \n",
       "6            7         0       1   \n",
       "7            8         0       3   \n",
       "8            9         1       3   \n",
       "9           10         1       2   \n",
       "\n",
       "                                                Name     Sex   Age  SibSp  \\\n",
       "0                            Braund, Mr. Owen Harris    male  22.0    1.0   \n",
       "1  Cumings, Mrs. John Bradley (Florence Briggs Th...  female  38.0    1.0   \n",
       "2                             Heikkinen, Miss. Laina  female  26.0    0.0   \n",
       "3       Futrelle, Mrs. Jacques Heath (Lily May Peel)  female  35.0    1.0   \n",
       "4                           Allen, Mr. William Henry    male  35.0    0.0   \n",
       "5                                   Moran, Mr. James    male   NaN    0.0   \n",
       "6                            McCarthy, Mr. Timothy J    male  54.0    0.0   \n",
       "7                     Palsson, Master. Gosta Leonard    male   2.0    NaN   \n",
       "8  Johnson, Mrs. Oscar W (Elisabeth Vilhelmina Berg)  female  27.0    NaN   \n",
       "9                Nasser, Mrs. Nicholas (Adele Achem)  female  14.0    1.0   \n",
       "\n",
       "   Parch            Ticket     Fare Cabin Embarked  \n",
       "0      0         A/5 21171   7.2500   NaN        S  \n",
       "1      0          PC 17599  71.2833   C85        C  \n",
       "2      0  STON/O2. 3101282   7.9250   NaN      NaN  \n",
       "3      0            113803  53.1000  C123        S  \n",
       "4      0            373450   8.0500   NaN      NaN  \n",
       "5      0            330877   8.4583   NaN        Q  \n",
       "6      0             17463  51.8625   E46        S  \n",
       "7      1            349909  21.0750   NaN        S  \n",
       "8      2            347742  11.1333   NaN        S  \n",
       "9      0            237736  30.0708   NaN        C  "
      ]
     },
     "execution_count": 109,
     "metadata": {},
     "output_type": "execute_result"
    }
   ],
   "source": [
    "display(titanic_missing_10.head(10))"
   ]
  },
  {
   "cell_type": "code",
   "execution_count": 138,
   "metadata": {
    "scrolled": false
   },
   "outputs": [],
   "source": [
    "titanic_missing_10.Embarked.fillna('NAN',inplace=True) \n"
   ]
  },
  {
   "cell_type": "code",
   "execution_count": 139,
   "metadata": {
    "collapsed": true
   },
   "outputs": [
    {
     "data": {
      "text/html": [
       "<div>\n",
       "<style scoped>\n",
       "    .dataframe tbody tr th:only-of-type {\n",
       "        vertical-align: middle;\n",
       "    }\n",
       "\n",
       "    .dataframe tbody tr th {\n",
       "        vertical-align: top;\n",
       "    }\n",
       "\n",
       "    .dataframe thead th {\n",
       "        text-align: right;\n",
       "    }\n",
       "</style>\n",
       "<table border=\"1\" class=\"dataframe\">\n",
       "  <thead>\n",
       "    <tr style=\"text-align: right;\">\n",
       "      <th></th>\n",
       "      <th>PassengerId</th>\n",
       "      <th>Survived</th>\n",
       "      <th>Pclass</th>\n",
       "      <th>Name</th>\n",
       "      <th>Sex</th>\n",
       "      <th>Age</th>\n",
       "      <th>SibSp</th>\n",
       "      <th>Parch</th>\n",
       "      <th>Ticket</th>\n",
       "      <th>Fare</th>\n",
       "      <th>Cabin</th>\n",
       "      <th>Embarked</th>\n",
       "    </tr>\n",
       "  </thead>\n",
       "  <tbody>\n",
       "    <tr>\n",
       "      <th>0</th>\n",
       "      <td>1</td>\n",
       "      <td>0</td>\n",
       "      <td>3</td>\n",
       "      <td>Braund, Mr. Owen Harris</td>\n",
       "      <td>male</td>\n",
       "      <td>22.0</td>\n",
       "      <td>1.0</td>\n",
       "      <td>0</td>\n",
       "      <td>A/5 21171</td>\n",
       "      <td>7.2500</td>\n",
       "      <td>NaN</td>\n",
       "      <td>S</td>\n",
       "    </tr>\n",
       "    <tr>\n",
       "      <th>1</th>\n",
       "      <td>2</td>\n",
       "      <td>1</td>\n",
       "      <td>1</td>\n",
       "      <td>Cumings, Mrs. John Bradley (Florence Briggs Th...</td>\n",
       "      <td>female</td>\n",
       "      <td>38.0</td>\n",
       "      <td>1.0</td>\n",
       "      <td>0</td>\n",
       "      <td>PC 17599</td>\n",
       "      <td>71.2833</td>\n",
       "      <td>C85</td>\n",
       "      <td>C</td>\n",
       "    </tr>\n",
       "    <tr>\n",
       "      <th>2</th>\n",
       "      <td>3</td>\n",
       "      <td>1</td>\n",
       "      <td>3</td>\n",
       "      <td>Heikkinen, Miss. Laina</td>\n",
       "      <td>female</td>\n",
       "      <td>26.0</td>\n",
       "      <td>0.0</td>\n",
       "      <td>0</td>\n",
       "      <td>STON/O2. 3101282</td>\n",
       "      <td>7.9250</td>\n",
       "      <td>NaN</td>\n",
       "      <td>NAN</td>\n",
       "    </tr>\n",
       "    <tr>\n",
       "      <th>3</th>\n",
       "      <td>4</td>\n",
       "      <td>1</td>\n",
       "      <td>1</td>\n",
       "      <td>Futrelle, Mrs. Jacques Heath (Lily May Peel)</td>\n",
       "      <td>female</td>\n",
       "      <td>35.0</td>\n",
       "      <td>1.0</td>\n",
       "      <td>0</td>\n",
       "      <td>113803</td>\n",
       "      <td>53.1000</td>\n",
       "      <td>C123</td>\n",
       "      <td>S</td>\n",
       "    </tr>\n",
       "    <tr>\n",
       "      <th>4</th>\n",
       "      <td>5</td>\n",
       "      <td>0</td>\n",
       "      <td>3</td>\n",
       "      <td>Allen, Mr. William Henry</td>\n",
       "      <td>male</td>\n",
       "      <td>35.0</td>\n",
       "      <td>0.0</td>\n",
       "      <td>0</td>\n",
       "      <td>373450</td>\n",
       "      <td>8.0500</td>\n",
       "      <td>NaN</td>\n",
       "      <td>NAN</td>\n",
       "    </tr>\n",
       "    <tr>\n",
       "      <th>5</th>\n",
       "      <td>6</td>\n",
       "      <td>0</td>\n",
       "      <td>3</td>\n",
       "      <td>Moran, Mr. James</td>\n",
       "      <td>male</td>\n",
       "      <td>NaN</td>\n",
       "      <td>0.0</td>\n",
       "      <td>0</td>\n",
       "      <td>330877</td>\n",
       "      <td>8.4583</td>\n",
       "      <td>NaN</td>\n",
       "      <td>Q</td>\n",
       "    </tr>\n",
       "    <tr>\n",
       "      <th>6</th>\n",
       "      <td>7</td>\n",
       "      <td>0</td>\n",
       "      <td>1</td>\n",
       "      <td>McCarthy, Mr. Timothy J</td>\n",
       "      <td>male</td>\n",
       "      <td>54.0</td>\n",
       "      <td>0.0</td>\n",
       "      <td>0</td>\n",
       "      <td>17463</td>\n",
       "      <td>51.8625</td>\n",
       "      <td>E46</td>\n",
       "      <td>S</td>\n",
       "    </tr>\n",
       "    <tr>\n",
       "      <th>7</th>\n",
       "      <td>8</td>\n",
       "      <td>0</td>\n",
       "      <td>3</td>\n",
       "      <td>Palsson, Master. Gosta Leonard</td>\n",
       "      <td>male</td>\n",
       "      <td>2.0</td>\n",
       "      <td>NaN</td>\n",
       "      <td>1</td>\n",
       "      <td>349909</td>\n",
       "      <td>21.0750</td>\n",
       "      <td>NaN</td>\n",
       "      <td>S</td>\n",
       "    </tr>\n",
       "    <tr>\n",
       "      <th>8</th>\n",
       "      <td>9</td>\n",
       "      <td>1</td>\n",
       "      <td>3</td>\n",
       "      <td>Johnson, Mrs. Oscar W (Elisabeth Vilhelmina Berg)</td>\n",
       "      <td>female</td>\n",
       "      <td>27.0</td>\n",
       "      <td>NaN</td>\n",
       "      <td>2</td>\n",
       "      <td>347742</td>\n",
       "      <td>11.1333</td>\n",
       "      <td>NaN</td>\n",
       "      <td>S</td>\n",
       "    </tr>\n",
       "    <tr>\n",
       "      <th>9</th>\n",
       "      <td>10</td>\n",
       "      <td>1</td>\n",
       "      <td>2</td>\n",
       "      <td>Nasser, Mrs. Nicholas (Adele Achem)</td>\n",
       "      <td>female</td>\n",
       "      <td>14.0</td>\n",
       "      <td>1.0</td>\n",
       "      <td>0</td>\n",
       "      <td>237736</td>\n",
       "      <td>30.0708</td>\n",
       "      <td>NaN</td>\n",
       "      <td>C</td>\n",
       "    </tr>\n",
       "  </tbody>\n",
       "</table>\n",
       "</div>"
      ],
      "text/plain": [
       "   PassengerId  Survived  Pclass  \\\n",
       "0            1         0       3   \n",
       "1            2         1       1   \n",
       "2            3         1       3   \n",
       "3            4         1       1   \n",
       "4            5         0       3   \n",
       "5            6         0       3   \n",
       "6            7         0       1   \n",
       "7            8         0       3   \n",
       "8            9         1       3   \n",
       "9           10         1       2   \n",
       "\n",
       "                                                Name     Sex   Age  SibSp  \\\n",
       "0                            Braund, Mr. Owen Harris    male  22.0    1.0   \n",
       "1  Cumings, Mrs. John Bradley (Florence Briggs Th...  female  38.0    1.0   \n",
       "2                             Heikkinen, Miss. Laina  female  26.0    0.0   \n",
       "3       Futrelle, Mrs. Jacques Heath (Lily May Peel)  female  35.0    1.0   \n",
       "4                           Allen, Mr. William Henry    male  35.0    0.0   \n",
       "5                                   Moran, Mr. James    male   NaN    0.0   \n",
       "6                            McCarthy, Mr. Timothy J    male  54.0    0.0   \n",
       "7                     Palsson, Master. Gosta Leonard    male   2.0    NaN   \n",
       "8  Johnson, Mrs. Oscar W (Elisabeth Vilhelmina Berg)  female  27.0    NaN   \n",
       "9                Nasser, Mrs. Nicholas (Adele Achem)  female  14.0    1.0   \n",
       "\n",
       "   Parch            Ticket     Fare Cabin Embarked  \n",
       "0      0         A/5 21171   7.2500   NaN        S  \n",
       "1      0          PC 17599  71.2833   C85        C  \n",
       "2      0  STON/O2. 3101282   7.9250   NaN      NAN  \n",
       "3      0            113803  53.1000  C123        S  \n",
       "4      0            373450   8.0500   NaN      NAN  \n",
       "5      0            330877   8.4583   NaN        Q  \n",
       "6      0             17463  51.8625   E46        S  \n",
       "7      1            349909  21.0750   NaN        S  \n",
       "8      2            347742  11.1333   NaN        S  \n",
       "9      0            237736  30.0708   NaN        C  "
      ]
     },
     "metadata": {},
     "output_type": "display_data"
    }
   ],
   "source": [
    "display(titanic_missing_10.head(10))"
   ]
  },
  {
   "cell_type": "markdown",
   "metadata": {},
   "source": [
    "# Soru 11"
   ]
  },
  {
   "cell_type": "markdown",
   "metadata": {},
   "source": [
    "\"Fare\" değişkeni için \"Fare_Missing\" adında yeni bir değişken türetip \"Fare\" değişkenini median ile doldurun."
   ]
  },
  {
   "cell_type": "code",
   "execution_count": 125,
   "metadata": {},
   "outputs": [],
   "source": [
    "titanic_missing_11=titanic_missing.copy()"
   ]
  },
  {
   "cell_type": "code",
   "execution_count": 126,
   "metadata": {
    "collapsed": true
   },
   "outputs": [
    {
     "data": {
      "text/plain": [
       "[11,\n",
       " 12,\n",
       " 17,\n",
       " 35,\n",
       " 40,\n",
       " 45,\n",
       " 67,\n",
       " 69,\n",
       " 70,\n",
       " 97,\n",
       " 105,\n",
       " 113,\n",
       " 129,\n",
       " 162,\n",
       " 166,\n",
       " 175,\n",
       " 181,\n",
       " 182,\n",
       " 193,\n",
       " 206,\n",
       " 210,\n",
       " 215,\n",
       " 229,\n",
       " 255,\n",
       " 264,\n",
       " 267,\n",
       " 283,\n",
       " 296,\n",
       " 301,\n",
       " 308,\n",
       " 324,\n",
       " 332,\n",
       " 354,\n",
       " 390,\n",
       " 396,\n",
       " 404,\n",
       " 413,\n",
       " 417,\n",
       " 427,\n",
       " 430,\n",
       " 436,\n",
       " 437,\n",
       " 438,\n",
       " 440,\n",
       " 443,\n",
       " 456,\n",
       " 463,\n",
       " 490,\n",
       " 494,\n",
       " 504,\n",
       " 533,\n",
       " 562,\n",
       " 589,\n",
       " 596,\n",
       " 599,\n",
       " 608,\n",
       " 614,\n",
       " 617,\n",
       " 618,\n",
       " 627,\n",
       " 654,\n",
       " 659,\n",
       " 676,\n",
       " 679,\n",
       " 681,\n",
       " 684,\n",
       " 690,\n",
       " 695,\n",
       " 721,\n",
       " 722,\n",
       " 729,\n",
       " 748,\n",
       " 752,\n",
       " 757,\n",
       " 763,\n",
       " 773,\n",
       " 781,\n",
       " 783,\n",
       " 790,\n",
       " 794,\n",
       " 798,\n",
       " 806,\n",
       " 808,\n",
       " 822,\n",
       " 823,\n",
       " 825,\n",
       " 841,\n",
       " 863,\n",
       " 872,\n",
       " 885,\n",
       " 888]"
      ]
     },
     "execution_count": 126,
     "metadata": {},
     "output_type": "execute_result"
    }
   ],
   "source": [
    "nan_indeks_11=titanic_missing.Fare[titanic_missing.Fare.isnull()].index.to_list() #nan ifadelerin indeksleri bulunuyor\n",
    "nan_indeks_11"
   ]
  },
  {
   "cell_type": "code",
   "execution_count": 127,
   "metadata": {},
   "outputs": [],
   "source": [
    "titanic_missing_11.insert(10,\"Fare_Missing\",0)"
   ]
  },
  {
   "cell_type": "code",
   "execution_count": 128,
   "metadata": {},
   "outputs": [],
   "source": [
    "titanic_missing_11.loc[nan_indeks_11, \"Fare_Missing\"] = 1"
   ]
  },
  {
   "cell_type": "code",
   "execution_count": 140,
   "metadata": {},
   "outputs": [
    {
     "data": {
      "text/html": [
       "<div>\n",
       "<style scoped>\n",
       "    .dataframe tbody tr th:only-of-type {\n",
       "        vertical-align: middle;\n",
       "    }\n",
       "\n",
       "    .dataframe tbody tr th {\n",
       "        vertical-align: top;\n",
       "    }\n",
       "\n",
       "    .dataframe thead th {\n",
       "        text-align: right;\n",
       "    }\n",
       "</style>\n",
       "<table border=\"1\" class=\"dataframe\">\n",
       "  <thead>\n",
       "    <tr style=\"text-align: right;\">\n",
       "      <th></th>\n",
       "      <th>PassengerId</th>\n",
       "      <th>Survived</th>\n",
       "      <th>Pclass</th>\n",
       "      <th>Name</th>\n",
       "      <th>Sex</th>\n",
       "      <th>Age</th>\n",
       "      <th>SibSp</th>\n",
       "      <th>Parch</th>\n",
       "      <th>Ticket</th>\n",
       "      <th>Fare</th>\n",
       "      <th>Fare_Missing</th>\n",
       "      <th>Cabin</th>\n",
       "      <th>Embarked</th>\n",
       "    </tr>\n",
       "  </thead>\n",
       "  <tbody>\n",
       "    <tr>\n",
       "      <th>0</th>\n",
       "      <td>1</td>\n",
       "      <td>0</td>\n",
       "      <td>3</td>\n",
       "      <td>Braund, Mr. Owen Harris</td>\n",
       "      <td>male</td>\n",
       "      <td>22.0</td>\n",
       "      <td>1.0</td>\n",
       "      <td>0</td>\n",
       "      <td>A/5 21171</td>\n",
       "      <td>7.25000</td>\n",
       "      <td>0</td>\n",
       "      <td>NaN</td>\n",
       "      <td>S</td>\n",
       "    </tr>\n",
       "    <tr>\n",
       "      <th>1</th>\n",
       "      <td>2</td>\n",
       "      <td>1</td>\n",
       "      <td>1</td>\n",
       "      <td>Cumings, Mrs. John Bradley (Florence Briggs Th...</td>\n",
       "      <td>female</td>\n",
       "      <td>38.0</td>\n",
       "      <td>1.0</td>\n",
       "      <td>0</td>\n",
       "      <td>PC 17599</td>\n",
       "      <td>71.28330</td>\n",
       "      <td>0</td>\n",
       "      <td>C85</td>\n",
       "      <td>C</td>\n",
       "    </tr>\n",
       "    <tr>\n",
       "      <th>2</th>\n",
       "      <td>3</td>\n",
       "      <td>1</td>\n",
       "      <td>3</td>\n",
       "      <td>Heikkinen, Miss. Laina</td>\n",
       "      <td>female</td>\n",
       "      <td>26.0</td>\n",
       "      <td>0.0</td>\n",
       "      <td>0</td>\n",
       "      <td>STON/O2. 3101282</td>\n",
       "      <td>7.92500</td>\n",
       "      <td>0</td>\n",
       "      <td>NaN</td>\n",
       "      <td>NaN</td>\n",
       "    </tr>\n",
       "    <tr>\n",
       "      <th>3</th>\n",
       "      <td>4</td>\n",
       "      <td>1</td>\n",
       "      <td>1</td>\n",
       "      <td>Futrelle, Mrs. Jacques Heath (Lily May Peel)</td>\n",
       "      <td>female</td>\n",
       "      <td>35.0</td>\n",
       "      <td>1.0</td>\n",
       "      <td>0</td>\n",
       "      <td>113803</td>\n",
       "      <td>53.10000</td>\n",
       "      <td>0</td>\n",
       "      <td>C123</td>\n",
       "      <td>S</td>\n",
       "    </tr>\n",
       "    <tr>\n",
       "      <th>4</th>\n",
       "      <td>5</td>\n",
       "      <td>0</td>\n",
       "      <td>3</td>\n",
       "      <td>Allen, Mr. William Henry</td>\n",
       "      <td>male</td>\n",
       "      <td>35.0</td>\n",
       "      <td>0.0</td>\n",
       "      <td>0</td>\n",
       "      <td>373450</td>\n",
       "      <td>8.05000</td>\n",
       "      <td>0</td>\n",
       "      <td>NaN</td>\n",
       "      <td>NaN</td>\n",
       "    </tr>\n",
       "    <tr>\n",
       "      <th>5</th>\n",
       "      <td>6</td>\n",
       "      <td>0</td>\n",
       "      <td>3</td>\n",
       "      <td>Moran, Mr. James</td>\n",
       "      <td>male</td>\n",
       "      <td>NaN</td>\n",
       "      <td>0.0</td>\n",
       "      <td>0</td>\n",
       "      <td>330877</td>\n",
       "      <td>8.45830</td>\n",
       "      <td>0</td>\n",
       "      <td>NaN</td>\n",
       "      <td>Q</td>\n",
       "    </tr>\n",
       "    <tr>\n",
       "      <th>6</th>\n",
       "      <td>7</td>\n",
       "      <td>0</td>\n",
       "      <td>1</td>\n",
       "      <td>McCarthy, Mr. Timothy J</td>\n",
       "      <td>male</td>\n",
       "      <td>54.0</td>\n",
       "      <td>0.0</td>\n",
       "      <td>0</td>\n",
       "      <td>17463</td>\n",
       "      <td>51.86250</td>\n",
       "      <td>0</td>\n",
       "      <td>E46</td>\n",
       "      <td>S</td>\n",
       "    </tr>\n",
       "    <tr>\n",
       "      <th>7</th>\n",
       "      <td>8</td>\n",
       "      <td>0</td>\n",
       "      <td>3</td>\n",
       "      <td>Palsson, Master. Gosta Leonard</td>\n",
       "      <td>male</td>\n",
       "      <td>2.0</td>\n",
       "      <td>NaN</td>\n",
       "      <td>1</td>\n",
       "      <td>349909</td>\n",
       "      <td>21.07500</td>\n",
       "      <td>0</td>\n",
       "      <td>NaN</td>\n",
       "      <td>S</td>\n",
       "    </tr>\n",
       "    <tr>\n",
       "      <th>8</th>\n",
       "      <td>9</td>\n",
       "      <td>1</td>\n",
       "      <td>3</td>\n",
       "      <td>Johnson, Mrs. Oscar W (Elisabeth Vilhelmina Berg)</td>\n",
       "      <td>female</td>\n",
       "      <td>27.0</td>\n",
       "      <td>NaN</td>\n",
       "      <td>2</td>\n",
       "      <td>347742</td>\n",
       "      <td>11.13330</td>\n",
       "      <td>0</td>\n",
       "      <td>NaN</td>\n",
       "      <td>S</td>\n",
       "    </tr>\n",
       "    <tr>\n",
       "      <th>9</th>\n",
       "      <td>10</td>\n",
       "      <td>1</td>\n",
       "      <td>2</td>\n",
       "      <td>Nasser, Mrs. Nicholas (Adele Achem)</td>\n",
       "      <td>female</td>\n",
       "      <td>14.0</td>\n",
       "      <td>1.0</td>\n",
       "      <td>0</td>\n",
       "      <td>237736</td>\n",
       "      <td>30.07080</td>\n",
       "      <td>0</td>\n",
       "      <td>NaN</td>\n",
       "      <td>C</td>\n",
       "    </tr>\n",
       "    <tr>\n",
       "      <th>10</th>\n",
       "      <td>11</td>\n",
       "      <td>1</td>\n",
       "      <td>3</td>\n",
       "      <td>Sandstrom, Miss. Marguerite Rut</td>\n",
       "      <td>female</td>\n",
       "      <td>4.0</td>\n",
       "      <td>1.0</td>\n",
       "      <td>1</td>\n",
       "      <td>PP 9549</td>\n",
       "      <td>16.70000</td>\n",
       "      <td>0</td>\n",
       "      <td>G6</td>\n",
       "      <td>S</td>\n",
       "    </tr>\n",
       "    <tr>\n",
       "      <th>11</th>\n",
       "      <td>12</td>\n",
       "      <td>1</td>\n",
       "      <td>1</td>\n",
       "      <td>Bonnell, Miss. Elizabeth</td>\n",
       "      <td>female</td>\n",
       "      <td>58.0</td>\n",
       "      <td>0.0</td>\n",
       "      <td>0</td>\n",
       "      <td>113783</td>\n",
       "      <td>14.45625</td>\n",
       "      <td>1</td>\n",
       "      <td>C103</td>\n",
       "      <td>S</td>\n",
       "    </tr>\n",
       "    <tr>\n",
       "      <th>12</th>\n",
       "      <td>13</td>\n",
       "      <td>0</td>\n",
       "      <td>3</td>\n",
       "      <td>Saundercock, Mr. William Henry</td>\n",
       "      <td>male</td>\n",
       "      <td>20.0</td>\n",
       "      <td>0.0</td>\n",
       "      <td>0</td>\n",
       "      <td>A/5. 2151</td>\n",
       "      <td>14.45625</td>\n",
       "      <td>1</td>\n",
       "      <td>NaN</td>\n",
       "      <td>S</td>\n",
       "    </tr>\n",
       "    <tr>\n",
       "      <th>13</th>\n",
       "      <td>14</td>\n",
       "      <td>0</td>\n",
       "      <td>3</td>\n",
       "      <td>Andersson, Mr. Anders Johan</td>\n",
       "      <td>male</td>\n",
       "      <td>39.0</td>\n",
       "      <td>1.0</td>\n",
       "      <td>5</td>\n",
       "      <td>347082</td>\n",
       "      <td>31.27500</td>\n",
       "      <td>0</td>\n",
       "      <td>NaN</td>\n",
       "      <td>S</td>\n",
       "    </tr>\n",
       "    <tr>\n",
       "      <th>14</th>\n",
       "      <td>15</td>\n",
       "      <td>0</td>\n",
       "      <td>3</td>\n",
       "      <td>Vestrom, Miss. Hulda Amanda Adolfina</td>\n",
       "      <td>female</td>\n",
       "      <td>14.0</td>\n",
       "      <td>NaN</td>\n",
       "      <td>0</td>\n",
       "      <td>350406</td>\n",
       "      <td>7.85420</td>\n",
       "      <td>0</td>\n",
       "      <td>NaN</td>\n",
       "      <td>NaN</td>\n",
       "    </tr>\n",
       "  </tbody>\n",
       "</table>\n",
       "</div>"
      ],
      "text/plain": [
       "    PassengerId  Survived  Pclass  \\\n",
       "0             1         0       3   \n",
       "1             2         1       1   \n",
       "2             3         1       3   \n",
       "3             4         1       1   \n",
       "4             5         0       3   \n",
       "5             6         0       3   \n",
       "6             7         0       1   \n",
       "7             8         0       3   \n",
       "8             9         1       3   \n",
       "9            10         1       2   \n",
       "10           11         1       3   \n",
       "11           12         1       1   \n",
       "12           13         0       3   \n",
       "13           14         0       3   \n",
       "14           15         0       3   \n",
       "\n",
       "                                                 Name     Sex   Age  SibSp  \\\n",
       "0                             Braund, Mr. Owen Harris    male  22.0    1.0   \n",
       "1   Cumings, Mrs. John Bradley (Florence Briggs Th...  female  38.0    1.0   \n",
       "2                              Heikkinen, Miss. Laina  female  26.0    0.0   \n",
       "3        Futrelle, Mrs. Jacques Heath (Lily May Peel)  female  35.0    1.0   \n",
       "4                            Allen, Mr. William Henry    male  35.0    0.0   \n",
       "5                                    Moran, Mr. James    male   NaN    0.0   \n",
       "6                             McCarthy, Mr. Timothy J    male  54.0    0.0   \n",
       "7                      Palsson, Master. Gosta Leonard    male   2.0    NaN   \n",
       "8   Johnson, Mrs. Oscar W (Elisabeth Vilhelmina Berg)  female  27.0    NaN   \n",
       "9                 Nasser, Mrs. Nicholas (Adele Achem)  female  14.0    1.0   \n",
       "10                    Sandstrom, Miss. Marguerite Rut  female   4.0    1.0   \n",
       "11                           Bonnell, Miss. Elizabeth  female  58.0    0.0   \n",
       "12                     Saundercock, Mr. William Henry    male  20.0    0.0   \n",
       "13                        Andersson, Mr. Anders Johan    male  39.0    1.0   \n",
       "14               Vestrom, Miss. Hulda Amanda Adolfina  female  14.0    NaN   \n",
       "\n",
       "    Parch            Ticket      Fare  Fare_Missing Cabin Embarked  \n",
       "0       0         A/5 21171   7.25000             0   NaN        S  \n",
       "1       0          PC 17599  71.28330             0   C85        C  \n",
       "2       0  STON/O2. 3101282   7.92500             0   NaN      NaN  \n",
       "3       0            113803  53.10000             0  C123        S  \n",
       "4       0            373450   8.05000             0   NaN      NaN  \n",
       "5       0            330877   8.45830             0   NaN        Q  \n",
       "6       0             17463  51.86250             0   E46        S  \n",
       "7       1            349909  21.07500             0   NaN        S  \n",
       "8       2            347742  11.13330             0   NaN        S  \n",
       "9       0            237736  30.07080             0   NaN        C  \n",
       "10      1           PP 9549  16.70000             0    G6        S  \n",
       "11      0            113783  14.45625             1  C103        S  \n",
       "12      0         A/5. 2151  14.45625             1   NaN        S  \n",
       "13      5            347082  31.27500             0   NaN        S  \n",
       "14      0            350406   7.85420             0   NaN      NaN  "
      ]
     },
     "metadata": {},
     "output_type": "display_data"
    }
   ],
   "source": [
    "display(titanic_missing_11.head(15))"
   ]
  },
  {
   "cell_type": "code",
   "execution_count": 130,
   "metadata": {},
   "outputs": [
    {
     "data": {
      "text/plain": [
       "14.45625"
      ]
     },
     "execution_count": 130,
     "metadata": {},
     "output_type": "execute_result"
    }
   ],
   "source": [
    "titanic_missing_11.Fare.median()"
   ]
  },
  {
   "cell_type": "code",
   "execution_count": 131,
   "metadata": {},
   "outputs": [],
   "source": [
    "titanic_missing_11.Fare.fillna(titanic_missing_11.Fare.median(),inplace=True)\n"
   ]
  },
  {
   "cell_type": "code",
   "execution_count": 141,
   "metadata": {
    "collapsed": true
   },
   "outputs": [
    {
     "data": {
      "text/html": [
       "<div>\n",
       "<style scoped>\n",
       "    .dataframe tbody tr th:only-of-type {\n",
       "        vertical-align: middle;\n",
       "    }\n",
       "\n",
       "    .dataframe tbody tr th {\n",
       "        vertical-align: top;\n",
       "    }\n",
       "\n",
       "    .dataframe thead th {\n",
       "        text-align: right;\n",
       "    }\n",
       "</style>\n",
       "<table border=\"1\" class=\"dataframe\">\n",
       "  <thead>\n",
       "    <tr style=\"text-align: right;\">\n",
       "      <th></th>\n",
       "      <th>PassengerId</th>\n",
       "      <th>Survived</th>\n",
       "      <th>Pclass</th>\n",
       "      <th>Name</th>\n",
       "      <th>Sex</th>\n",
       "      <th>Age</th>\n",
       "      <th>SibSp</th>\n",
       "      <th>Parch</th>\n",
       "      <th>Ticket</th>\n",
       "      <th>Fare</th>\n",
       "      <th>Fare_Missing</th>\n",
       "      <th>Cabin</th>\n",
       "      <th>Embarked</th>\n",
       "    </tr>\n",
       "  </thead>\n",
       "  <tbody>\n",
       "    <tr>\n",
       "      <th>0</th>\n",
       "      <td>1</td>\n",
       "      <td>0</td>\n",
       "      <td>3</td>\n",
       "      <td>Braund, Mr. Owen Harris</td>\n",
       "      <td>male</td>\n",
       "      <td>22.0</td>\n",
       "      <td>1.0</td>\n",
       "      <td>0</td>\n",
       "      <td>A/5 21171</td>\n",
       "      <td>7.25000</td>\n",
       "      <td>0</td>\n",
       "      <td>NaN</td>\n",
       "      <td>S</td>\n",
       "    </tr>\n",
       "    <tr>\n",
       "      <th>1</th>\n",
       "      <td>2</td>\n",
       "      <td>1</td>\n",
       "      <td>1</td>\n",
       "      <td>Cumings, Mrs. John Bradley (Florence Briggs Th...</td>\n",
       "      <td>female</td>\n",
       "      <td>38.0</td>\n",
       "      <td>1.0</td>\n",
       "      <td>0</td>\n",
       "      <td>PC 17599</td>\n",
       "      <td>71.28330</td>\n",
       "      <td>0</td>\n",
       "      <td>C85</td>\n",
       "      <td>C</td>\n",
       "    </tr>\n",
       "    <tr>\n",
       "      <th>2</th>\n",
       "      <td>3</td>\n",
       "      <td>1</td>\n",
       "      <td>3</td>\n",
       "      <td>Heikkinen, Miss. Laina</td>\n",
       "      <td>female</td>\n",
       "      <td>26.0</td>\n",
       "      <td>0.0</td>\n",
       "      <td>0</td>\n",
       "      <td>STON/O2. 3101282</td>\n",
       "      <td>7.92500</td>\n",
       "      <td>0</td>\n",
       "      <td>NaN</td>\n",
       "      <td>NaN</td>\n",
       "    </tr>\n",
       "    <tr>\n",
       "      <th>3</th>\n",
       "      <td>4</td>\n",
       "      <td>1</td>\n",
       "      <td>1</td>\n",
       "      <td>Futrelle, Mrs. Jacques Heath (Lily May Peel)</td>\n",
       "      <td>female</td>\n",
       "      <td>35.0</td>\n",
       "      <td>1.0</td>\n",
       "      <td>0</td>\n",
       "      <td>113803</td>\n",
       "      <td>53.10000</td>\n",
       "      <td>0</td>\n",
       "      <td>C123</td>\n",
       "      <td>S</td>\n",
       "    </tr>\n",
       "    <tr>\n",
       "      <th>4</th>\n",
       "      <td>5</td>\n",
       "      <td>0</td>\n",
       "      <td>3</td>\n",
       "      <td>Allen, Mr. William Henry</td>\n",
       "      <td>male</td>\n",
       "      <td>35.0</td>\n",
       "      <td>0.0</td>\n",
       "      <td>0</td>\n",
       "      <td>373450</td>\n",
       "      <td>8.05000</td>\n",
       "      <td>0</td>\n",
       "      <td>NaN</td>\n",
       "      <td>NaN</td>\n",
       "    </tr>\n",
       "    <tr>\n",
       "      <th>5</th>\n",
       "      <td>6</td>\n",
       "      <td>0</td>\n",
       "      <td>3</td>\n",
       "      <td>Moran, Mr. James</td>\n",
       "      <td>male</td>\n",
       "      <td>NaN</td>\n",
       "      <td>0.0</td>\n",
       "      <td>0</td>\n",
       "      <td>330877</td>\n",
       "      <td>8.45830</td>\n",
       "      <td>0</td>\n",
       "      <td>NaN</td>\n",
       "      <td>Q</td>\n",
       "    </tr>\n",
       "    <tr>\n",
       "      <th>6</th>\n",
       "      <td>7</td>\n",
       "      <td>0</td>\n",
       "      <td>1</td>\n",
       "      <td>McCarthy, Mr. Timothy J</td>\n",
       "      <td>male</td>\n",
       "      <td>54.0</td>\n",
       "      <td>0.0</td>\n",
       "      <td>0</td>\n",
       "      <td>17463</td>\n",
       "      <td>51.86250</td>\n",
       "      <td>0</td>\n",
       "      <td>E46</td>\n",
       "      <td>S</td>\n",
       "    </tr>\n",
       "    <tr>\n",
       "      <th>7</th>\n",
       "      <td>8</td>\n",
       "      <td>0</td>\n",
       "      <td>3</td>\n",
       "      <td>Palsson, Master. Gosta Leonard</td>\n",
       "      <td>male</td>\n",
       "      <td>2.0</td>\n",
       "      <td>NaN</td>\n",
       "      <td>1</td>\n",
       "      <td>349909</td>\n",
       "      <td>21.07500</td>\n",
       "      <td>0</td>\n",
       "      <td>NaN</td>\n",
       "      <td>S</td>\n",
       "    </tr>\n",
       "    <tr>\n",
       "      <th>8</th>\n",
       "      <td>9</td>\n",
       "      <td>1</td>\n",
       "      <td>3</td>\n",
       "      <td>Johnson, Mrs. Oscar W (Elisabeth Vilhelmina Berg)</td>\n",
       "      <td>female</td>\n",
       "      <td>27.0</td>\n",
       "      <td>NaN</td>\n",
       "      <td>2</td>\n",
       "      <td>347742</td>\n",
       "      <td>11.13330</td>\n",
       "      <td>0</td>\n",
       "      <td>NaN</td>\n",
       "      <td>S</td>\n",
       "    </tr>\n",
       "    <tr>\n",
       "      <th>9</th>\n",
       "      <td>10</td>\n",
       "      <td>1</td>\n",
       "      <td>2</td>\n",
       "      <td>Nasser, Mrs. Nicholas (Adele Achem)</td>\n",
       "      <td>female</td>\n",
       "      <td>14.0</td>\n",
       "      <td>1.0</td>\n",
       "      <td>0</td>\n",
       "      <td>237736</td>\n",
       "      <td>30.07080</td>\n",
       "      <td>0</td>\n",
       "      <td>NaN</td>\n",
       "      <td>C</td>\n",
       "    </tr>\n",
       "    <tr>\n",
       "      <th>10</th>\n",
       "      <td>11</td>\n",
       "      <td>1</td>\n",
       "      <td>3</td>\n",
       "      <td>Sandstrom, Miss. Marguerite Rut</td>\n",
       "      <td>female</td>\n",
       "      <td>4.0</td>\n",
       "      <td>1.0</td>\n",
       "      <td>1</td>\n",
       "      <td>PP 9549</td>\n",
       "      <td>16.70000</td>\n",
       "      <td>0</td>\n",
       "      <td>G6</td>\n",
       "      <td>S</td>\n",
       "    </tr>\n",
       "    <tr>\n",
       "      <th>11</th>\n",
       "      <td>12</td>\n",
       "      <td>1</td>\n",
       "      <td>1</td>\n",
       "      <td>Bonnell, Miss. Elizabeth</td>\n",
       "      <td>female</td>\n",
       "      <td>58.0</td>\n",
       "      <td>0.0</td>\n",
       "      <td>0</td>\n",
       "      <td>113783</td>\n",
       "      <td>14.45625</td>\n",
       "      <td>1</td>\n",
       "      <td>C103</td>\n",
       "      <td>S</td>\n",
       "    </tr>\n",
       "    <tr>\n",
       "      <th>12</th>\n",
       "      <td>13</td>\n",
       "      <td>0</td>\n",
       "      <td>3</td>\n",
       "      <td>Saundercock, Mr. William Henry</td>\n",
       "      <td>male</td>\n",
       "      <td>20.0</td>\n",
       "      <td>0.0</td>\n",
       "      <td>0</td>\n",
       "      <td>A/5. 2151</td>\n",
       "      <td>14.45625</td>\n",
       "      <td>1</td>\n",
       "      <td>NaN</td>\n",
       "      <td>S</td>\n",
       "    </tr>\n",
       "    <tr>\n",
       "      <th>13</th>\n",
       "      <td>14</td>\n",
       "      <td>0</td>\n",
       "      <td>3</td>\n",
       "      <td>Andersson, Mr. Anders Johan</td>\n",
       "      <td>male</td>\n",
       "      <td>39.0</td>\n",
       "      <td>1.0</td>\n",
       "      <td>5</td>\n",
       "      <td>347082</td>\n",
       "      <td>31.27500</td>\n",
       "      <td>0</td>\n",
       "      <td>NaN</td>\n",
       "      <td>S</td>\n",
       "    </tr>\n",
       "    <tr>\n",
       "      <th>14</th>\n",
       "      <td>15</td>\n",
       "      <td>0</td>\n",
       "      <td>3</td>\n",
       "      <td>Vestrom, Miss. Hulda Amanda Adolfina</td>\n",
       "      <td>female</td>\n",
       "      <td>14.0</td>\n",
       "      <td>NaN</td>\n",
       "      <td>0</td>\n",
       "      <td>350406</td>\n",
       "      <td>7.85420</td>\n",
       "      <td>0</td>\n",
       "      <td>NaN</td>\n",
       "      <td>NaN</td>\n",
       "    </tr>\n",
       "  </tbody>\n",
       "</table>\n",
       "</div>"
      ],
      "text/plain": [
       "    PassengerId  Survived  Pclass  \\\n",
       "0             1         0       3   \n",
       "1             2         1       1   \n",
       "2             3         1       3   \n",
       "3             4         1       1   \n",
       "4             5         0       3   \n",
       "5             6         0       3   \n",
       "6             7         0       1   \n",
       "7             8         0       3   \n",
       "8             9         1       3   \n",
       "9            10         1       2   \n",
       "10           11         1       3   \n",
       "11           12         1       1   \n",
       "12           13         0       3   \n",
       "13           14         0       3   \n",
       "14           15         0       3   \n",
       "\n",
       "                                                 Name     Sex   Age  SibSp  \\\n",
       "0                             Braund, Mr. Owen Harris    male  22.0    1.0   \n",
       "1   Cumings, Mrs. John Bradley (Florence Briggs Th...  female  38.0    1.0   \n",
       "2                              Heikkinen, Miss. Laina  female  26.0    0.0   \n",
       "3        Futrelle, Mrs. Jacques Heath (Lily May Peel)  female  35.0    1.0   \n",
       "4                            Allen, Mr. William Henry    male  35.0    0.0   \n",
       "5                                    Moran, Mr. James    male   NaN    0.0   \n",
       "6                             McCarthy, Mr. Timothy J    male  54.0    0.0   \n",
       "7                      Palsson, Master. Gosta Leonard    male   2.0    NaN   \n",
       "8   Johnson, Mrs. Oscar W (Elisabeth Vilhelmina Berg)  female  27.0    NaN   \n",
       "9                 Nasser, Mrs. Nicholas (Adele Achem)  female  14.0    1.0   \n",
       "10                    Sandstrom, Miss. Marguerite Rut  female   4.0    1.0   \n",
       "11                           Bonnell, Miss. Elizabeth  female  58.0    0.0   \n",
       "12                     Saundercock, Mr. William Henry    male  20.0    0.0   \n",
       "13                        Andersson, Mr. Anders Johan    male  39.0    1.0   \n",
       "14               Vestrom, Miss. Hulda Amanda Adolfina  female  14.0    NaN   \n",
       "\n",
       "    Parch            Ticket      Fare  Fare_Missing Cabin Embarked  \n",
       "0       0         A/5 21171   7.25000             0   NaN        S  \n",
       "1       0          PC 17599  71.28330             0   C85        C  \n",
       "2       0  STON/O2. 3101282   7.92500             0   NaN      NaN  \n",
       "3       0            113803  53.10000             0  C123        S  \n",
       "4       0            373450   8.05000             0   NaN      NaN  \n",
       "5       0            330877   8.45830             0   NaN        Q  \n",
       "6       0             17463  51.86250             0   E46        S  \n",
       "7       1            349909  21.07500             0   NaN        S  \n",
       "8       2            347742  11.13330             0   NaN        S  \n",
       "9       0            237736  30.07080             0   NaN        C  \n",
       "10      1           PP 9549  16.70000             0    G6        S  \n",
       "11      0            113783  14.45625             1  C103        S  \n",
       "12      0         A/5. 2151  14.45625             1   NaN        S  \n",
       "13      5            347082  31.27500             0   NaN        S  \n",
       "14      0            350406   7.85420             0   NaN      NaN  "
      ]
     },
     "metadata": {},
     "output_type": "display_data"
    }
   ],
   "source": [
    "display(titanic_missing_11.head(15))"
   ]
  }
 ],
 "metadata": {
  "kernelspec": {
   "display_name": "Python 3",
   "language": "python",
   "name": "python3"
  },
  "language_info": {
   "codemirror_mode": {
    "name": "ipython",
    "version": 3
   },
   "file_extension": ".py",
   "mimetype": "text/x-python",
   "name": "python",
   "nbconvert_exporter": "python",
   "pygments_lexer": "ipython3",
   "version": "3.8.3"
  }
 },
 "nbformat": 4,
 "nbformat_minor": 2
}
